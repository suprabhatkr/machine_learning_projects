{
 "cells": [
  {
   "cell_type": "code",
   "execution_count": 1,
   "metadata": {},
   "outputs": [],
   "source": [
    "from nltk.corpus import stopwords\n",
    "from nltk.stem import PorterStemmer\n",
    "from nltk.tokenize import word_tokenize, sent_tokenize\n"
   ]
  },
  {
   "cell_type": "code",
   "execution_count": 2,
   "metadata": {},
   "outputs": [],
   "source": [
    "def _create_frequency_table(text_string) -> dict:\n",
    "\n",
    "    stopWords = set(stopwords.words(\"english\"))\n",
    "    words = word_tokenize(text_string)\n",
    "    ps = PorterStemmer()\n",
    "\n",
    "    freqTable = dict()\n",
    "    for word in words:\n",
    "        word = ps.stem(word)\n",
    "        if word in stopWords:\n",
    "            continue\n",
    "        if word in freqTable:\n",
    "            freqTable[word] += 1\n",
    "        else:\n",
    "            freqTable[word] = 1\n",
    "\n",
    "    return freqTable"
   ]
  },
  {
   "cell_type": "code",
   "execution_count": 3,
   "metadata": {},
   "outputs": [],
   "source": [
    "with open('passage.txt', 'r') as file:\n",
    "    text = file.read()\n",
    "freq_table = _create_frequency_table(text)"
   ]
  },
  {
   "cell_type": "code",
   "execution_count": 4,
   "metadata": {},
   "outputs": [
    {
     "output_type": "execute_result",
     "data": {
      "text/plain": "{'mike': 6,\n 'morri': 6,\n 'live': 2,\n 'villag': 6,\n '.': 34,\n 'largest': 1,\n 'jewelri': 1,\n 'shop': 1,\n ',': 20,\n 'wa': 10,\n 'poor': 1,\n 'farmer': 1,\n 'larg': 3,\n 'famili': 10,\n 'mani': 1,\n 'son': 2,\n 'daughters-in-law': 2,\n 'grandchildren': 1,\n 'one': 4,\n 'fine': 1,\n 'day': 1,\n 'tire': 1,\n 'abl': 1,\n 'feed': 2,\n 'hi': 12,\n 'decid': 2,\n 'leav': 1,\n 'move': 1,\n 'citi': 2,\n 'certain': 1,\n 'earn': 2,\n 'enough': 1,\n 'everyon': 4,\n 'along': 1,\n 'left': 2,\n 'At': 1,\n 'night': 1,\n 'stop': 2,\n 'tree': 7,\n 'stream': 1,\n 'run': 2,\n 'nearbi': 1,\n 'could': 1,\n 'freshen': 1,\n 'themselv': 1,\n 'He': 8,\n 'told': 3,\n 'clear': 1,\n 'area': 1,\n 'wife': 3,\n 'fetch': 2,\n 'water': 2,\n 'instruct': 1,\n 'make': 2,\n 'fire': 2,\n 'start': 3,\n 'cut': 1,\n 'wood': 2,\n 'didnâ€™t': 1,\n 'know': 2,\n 'branch': 2,\n 'thief': 4,\n 'hide': 2,\n 'watch': 3,\n 'mikeâ€™': 3,\n 'work': 2,\n 'togeth': 2,\n 'also': 3,\n 'notic': 1,\n 'noth': 1,\n 'cook': 1,\n 'thought': 2,\n 'ask': 1,\n 'husband': 1,\n 'everyth': 3,\n 'readi': 2,\n 'shall': 2,\n 'eat': 2,\n '?': 2,\n 'rais': 2,\n 'hand': 4,\n 'heaven': 1,\n 'said': 3,\n 'donâ€™t': 2,\n 'worri': 3,\n 'thi': 3,\n 'abov': 2,\n 'help': 2,\n 'us': 2,\n 'got': 2,\n 'seen': 1,\n 'well': 1,\n 'take': 1,\n 'advantag': 1,\n 'fact': 1,\n 'quick': 2,\n 'escap': 1,\n 'climb': 1,\n 'safe': 1,\n 'look': 1,\n 'ran': 1,\n 'life': 1,\n 'behind': 1,\n 'bundl': 1,\n 'stolen': 1,\n 'jewel': 1,\n 'money': 2,\n 'drop': 1,\n 'lap': 1,\n 'open': 1,\n 'jump': 2,\n 'joy': 1,\n 'saw': 1,\n 'content': 1,\n 'gather': 1,\n 'belong': 1,\n 'return': 2,\n 'great': 1,\n 'excit': 1,\n 'rich': 2,\n 'miracul': 1,\n 'nice': 2,\n 'way': 1,\n 'order': 2,\n 'pack': 1,\n 'cloth': 1,\n 'set': 1,\n 'journey': 1,\n 'command': 1,\n 'done': 1,\n 'obey': 1,\n 'use': 1,\n 'servant': 1,\n 'around': 2,\n 'So': 1,\n 'went': 3,\n 'river': 1,\n 'enjoy': 1,\n 'bath': 1,\n 'get': 1,\n 'sleep': 1,\n 'morrisâ€™': 1,\n 'As': 1,\n 'soon': 1,\n 'finish': 1,\n 'say': 1,\n 'knife': 1,\n 'see': 1,\n 'save': 1,\n 'stole': 1,\n 'empti': 1,\n 'lost': 1,\n 'valuabl': 1,\n 'taken': 1}"
     },
     "metadata": {},
     "execution_count": 4
    }
   ],
   "source": [
    "freq_table"
   ]
  },
  {
   "cell_type": "code",
   "execution_count": 5,
   "metadata": {},
   "outputs": [],
   "source": [
    "sentences = sent_tokenize(text)"
   ]
  },
  {
   "cell_type": "code",
   "execution_count": 6,
   "metadata": {},
   "outputs": [
    {
     "output_type": "execute_result",
     "data": {
      "text/plain": "['Mike and Morris lived in the same village.',\n 'While Morris owned the largest jewelry shop in the village, Mike was a poor farmer.',\n 'Both had large families with many sons, daughters-in-law and grandchildren.',\n 'One fine day, Mike, tired of not being able to feed his family, decided to leave the village and move to the city where he was certain to earn enough to feed everyone.',\n 'Along with his family, he left the village for the city.',\n 'At night, they stopped under a large tree.',\n 'There was a stream running nearby where they could freshen up themselves.',\n 'He told his sons to clear the area below the tree, he told his wife to fetch water and he instructed his daughters-in-law to make up the fire and started cutting wood from the tree himself.',\n 'They didnâ€™t know that in the branches of the tree, there was a thief hiding.',\n 'He watched as Mikeâ€™s family worked together and also noticed that they had nothing to cook.',\n 'Mikeâ€™s wife also thought the same and asked her husband, Everything is ready but what shall we eat?.',\n 'Mike raised his hands to heaven and said, Donâ€™t worry.',\n 'He is watching all of this from above.',\n 'He will help us.',\n 'The thief got worried as he had seen that the family was large and worked well together.',\n 'Taking advantage of the fact that they did not know he was hiding in the branches, he decided to make a quick escape.',\n 'He climbed down safely when they were not looking and ran for his life.',\n 'But, he left behind the bundle of stolen jewels and money which dropped into Mikeâ€™s lap.',\n 'Mike opened it and jumped with joy when he saw the contents.',\n 'The family gathered all their belongings and returned to the village.',\n 'There was great excitement when they told everyone how they got rich.',\n 'Morris thought that the tree was miraculous and this was a nice and quick way to earn some money.',\n 'He ordered his family to pack some clothes and they set off as if on a journey.',\n 'They also stopped under the same tree and Morris started commanding everyone as Mike had done.',\n 'But no one in his family was willing to obey his orders.',\n 'Being a rich family, they were used to having servants all around.',\n 'So, the one who went to the river to fetch water enjoyed a nice bath.',\n 'The one who went to get wood for fire went off to sleep.',\n 'Morrisâ€™s wife said , Everything is ready but what shall we eat ?',\n 'Morris raised his hands and said, Donâ€™t worry.',\n 'He is watching all of this from above.',\n 'He will help us.',\n 'As soon as he finished saying, the thief jumped down from the tree with a knife in hand.',\n 'Seeing him, everyone started running around to save their lives.',\n 'The thief stole everything they had and Morris and his family had to return to the village empty handed, having lost all their valuables that they had taken with them.']"
     },
     "metadata": {},
     "execution_count": 6
    }
   ],
   "source": [
    "sentences"
   ]
  },
  {
   "cell_type": "code",
   "execution_count": 7,
   "metadata": {},
   "outputs": [],
   "source": [
    "def _score_sentences(sentences, freqTable):\n",
    "    sentenceValue = dict()\n",
    "\n",
    "    for sentence in sentences:\n",
    "        no_of_words = (len(word_tokenize(sentence)))\n",
    "        for wordValue in freqTable:\n",
    "            if wordValue in sentence.lower():\n",
    "                #print(wordValue)\n",
    "                if sentence[:10] in sentenceValue:\n",
    "                    sentenceValue[sentence[:10]] += freqTable[wordValue]\n",
    "                else:\n",
    "                    sentenceValue[sentence[:10]] = freqTable[wordValue]\n",
    "\n",
    "        sentenceValue[sentence[:10]] = sentenceValue[sentence[:10]] // no_of_words\n",
    "\n",
    "    return sentenceValue\n",
    "sentence_scores = _score_sentences(sentences, freq_table)"
   ]
  },
  {
   "cell_type": "code",
   "execution_count": 8,
   "metadata": {},
   "outputs": [
    {
     "output_type": "execute_result",
     "data": {
      "text/plain": "dict_items([('Mike and M', 6), ('While Morr', 6), ('Both had l', 7), ('One fine d', 2), ('Along with', 5), ('At night, ', 6), ('There was ', 5), ('He told hi', 2), ('They didnâ', 5), ('He watched', 4), ('Mikeâ€™s w', 4), ('Mike raise', 7), ('He is watc', 7), ('He will he', 9), ('The thief ', 3), ('Taking adv', 3), ('He climbed', 3), ('But, he le', 5), ('Mike opene', 3), ('The family', 3), ('Morris tho', 4), ('He ordered', 2), ('They also ', 4), ('But no one', 4), ('Being a ri', 4), ('So, the on', 4), ('The one wh', 3), ('Morrisâ€™s', 4), ('Morris rai', 8), ('As soon as', 4), ('Seeing him', 7)])"
     },
     "metadata": {},
     "execution_count": 8
    }
   ],
   "source": [
    "sentence_scores.items()"
   ]
  },
  {
   "cell_type": "code",
   "execution_count": 9,
   "metadata": {},
   "outputs": [],
   "source": [
    "def _find_average_score(sentenceValue) -> int:\n",
    "    sumValues = 0\n",
    "    for entry in sentenceValue:\n",
    "        sumValues += sentenceValue[entry]\n",
    "\n",
    "    # Average value of a sentence from original text\n",
    "    average = int(sumValues / len(sentenceValue))\n",
    "\n",
    "    return average\n",
    "threshold = _find_average_score(sentence_scores)"
   ]
  },
  {
   "cell_type": "code",
   "execution_count": 10,
   "metadata": {},
   "outputs": [
    {
     "output_type": "execute_result",
     "data": {
      "text/plain": "4"
     },
     "metadata": {},
     "execution_count": 10
    }
   ],
   "source": [
    "threshold"
   ]
  },
  {
   "cell_type": "code",
   "execution_count": 11,
   "metadata": {},
   "outputs": [],
   "source": [
    "def _generate_summary(sentences, sentenceValue, threshold):\n",
    "    sentence_count = 0\n",
    "    summary = ''\n",
    "\n",
    "    for sentence in sentences:\n",
    "        if sentence[:10] in sentenceValue and sentenceValue[sentence[:10]] >= (threshold):\n",
    "            summary += \" \" + sentence\n",
    "            sentence_count += 1\n",
    "\n",
    "    return summary\n",
    "summary = _generate_summary(sentences, sentence_scores, 1.2 * threshold)"
   ]
  },
  {
   "cell_type": "code",
   "execution_count": 12,
   "metadata": {
    "tags": []
   },
   "outputs": [
    {
     "output_type": "stream",
     "name": "stdout",
     "text": "Mike and Morris lived in the same village. While Morris owned the largest jewelry shop in the village, Mike was a poor farmer. Both had large families with many sons, daughters-in-law and grandchildren. Along with his family, he left the village for the city. At night, they stopped under a large tree. There was a stream running nearby where they could freshen up themselves. They didnâ€™t know that in the branches of the tree, there was a thief hiding. Mike raised his hands to heaven and said, Donâ€™t worry. He is watching all of this from above. He will help us. But, he left behind the bundle of stolen jewels and money which dropped into Mikeâ€™s lap. There was great excitement when they told everyone how they got rich. Morris raised his hands and said, Donâ€™t worry. He is watching all of this from above. He will help us. Seeing him, everyone started running around to save their lives.\n"
    }
   ],
   "source": [
    "print(summary)"
   ]
  },
  {
   "cell_type": "code",
   "execution_count": null,
   "metadata": {},
   "outputs": [],
   "source": []
  }
 ],
 "metadata": {
  "file_extension": ".py",
  "kernelspec": {
   "display_name": "Python 3.7.6 64-bit",
   "language": "python",
   "name": "python37664bit64a37ecbee8847aeb2b23c19bc2435b5"
  },
  "language_info": {
   "codemirror_mode": {
    "name": "ipython",
    "version": 3
   },
   "file_extension": ".py",
   "mimetype": "text/x-python",
   "name": "python",
   "nbconvert_exporter": "python",
   "pygments_lexer": "ipython3",
   "version": "3.7.6-final"
  },
  "mimetype": "text/x-python",
  "name": "python",
  "npconvert_exporter": "python",
  "pygments_lexer": "ipython3",
  "version": 3
 },
 "nbformat": 4,
 "nbformat_minor": 2
}