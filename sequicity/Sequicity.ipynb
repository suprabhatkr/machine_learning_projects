{
  "nbformat": 4,
  "nbformat_minor": 0,
  "metadata": {
    "colab": {
      "name": "Sequicity.ipynb",
      "provenance": [],
      "mount_file_id": "16N_NVC9A4dX2TYMsF9GVWxQ_TlAxqsm6",
      "authorship_tag": "ABX9TyMpKzfFjcT8YpMsaHTXTk+C",
      "include_colab_link": true
    },
    "kernelspec": {
      "name": "python3",
      "display_name": "Python 3"
    }
  },
  "cells": [
    {
      "cell_type": "markdown",
      "metadata": {
        "id": "view-in-github",
        "colab_type": "text"
      },
      "source": [
        "<a href=\"https://colab.research.google.com/github/suprabhatkr/machine_learning_projects/blob/master/sequicity/Sequicity.ipynb\" target=\"_parent\"><img src=\"https://colab.research.google.com/assets/colab-badge.svg\" alt=\"Open In Colab\"/></a>"
      ]
    },
    {
      "cell_type": "code",
      "metadata": {
        "id": "8ROc5I6Yqs-E",
        "colab_type": "code",
        "colab": {
          "base_uri": "https://localhost:8080/",
          "height": 35
        },
        "outputId": "6d506464-e59a-4274-a022-704d08e4682f"
      },
      "source": [
        "%cd '/content/drive/My Drive/ML/sequicity-master/'"
      ],
      "execution_count": null,
      "outputs": [
        {
          "output_type": "stream",
          "text": [
            "/content/drive/My Drive/ML/sequicity-master\n"
          ],
          "name": "stdout"
        }
      ]
    },
    {
      "cell_type": "code",
      "metadata": {
        "id": "v_RNSiRebsyk",
        "colab_type": "code",
        "colab": {}
      },
      "source": [
        "import keras\n",
        "import numpy as np\n",
        "from keras.models import Sequential,Model\n",
        "from keras.layers import Dense,Dropout,LSTM,Input,Bidirectional\n",
        "from sklearn.model_selection import cross_val_score \n",
        "from nltk.tokenize import word_tokenize,sent_tokenize\n",
        "import nltk\n",
        "from keras.layers import RepeatVector\n",
        "from keras.layers import TimeDistributed"
      ],
      "execution_count": null,
      "outputs": []
    },
    {
      "cell_type": "code",
      "metadata": {
        "id": "5MAorbirfBY5",
        "colab_type": "code",
        "colab": {}
      },
      "source": [
        "from nltk.translate.bleu_score import sentence_bleu\n",
        "def bleu_score(reference,candidate):\n",
        "  reference=[word_tokenize(reference)] \n",
        "  candidate=word_tokenize(candidate)\n",
        "  score = sentence_bleu(reference, candidate)\n",
        "  return score"
      ],
      "execution_count": null,
      "outputs": []
    },
    {
      "cell_type": "code",
      "metadata": {
        "id": "ATaXgr98fGOG",
        "colab_type": "code",
        "colab": {
          "base_uri": "https://localhost:8080/",
          "height": 52
        },
        "outputId": "321516b3-44e3-480a-9886-5b5fe39b7f8d"
      },
      "source": [
        "def isint(word):\n",
        "  try:\n",
        "    word=int(word) \n",
        "  except:\n",
        "    word=word \n",
        "  if type(word)==int and int(word)==float(word):\n",
        "    return 1 \n",
        "  else:\n",
        "    return 0\n",
        "def isNan(word):\n",
        "    try:\n",
        "        word=int(word) \n",
        "    except:\n",
        "        word=0 \n",
        "    return word\n",
        "def isfloat(word):\n",
        "  try:\n",
        "    word=float(word) \n",
        "  except:\n",
        "    word=word \n",
        "  if type(word)==int:\n",
        "    return 1 \n",
        "  else:\n",
        "    return 0 \n",
        "\n",
        "def get_pos(arr):\n",
        "  ans=[]\n",
        "  for i in range(len(arr)):\n",
        "    if arr[i]>0.08:\n",
        "      ans.append(i) \n",
        "  return ans\n",
        "nltk.download('punkt')\n",
        "def padd(string):\n",
        "  arr=word_tokenize(string)  \n",
        "  l=len(arr) \n",
        "  for i in range(max(0,15-l)):\n",
        "    arr.append('<pad>') \n",
        "  return arr[:15]  "
      ],
      "execution_count": null,
      "outputs": [
        {
          "output_type": "stream",
          "text": [
            "[nltk_data] Downloading package punkt to /root/nltk_data...\n",
            "[nltk_data]   Unzipping tokenizers/punkt.zip.\n"
          ],
          "name": "stdout"
        }
      ]
    },
    {
      "cell_type": "code",
      "metadata": {
        "id": "xWoDBs4RfKU7",
        "colab_type": "code",
        "colab": {}
      },
      "source": [
        "clean_mp={'6gb': '6 gb', '34gb': '34 gb', '128gb': '128 gb', '3gb': '3 gb','16-megapixel':'16 mp','with15mp': 'with 15 mp', '10mp': '10 mp', '8mp': '8 mp', 'mp-primary': 'mp for primary', 'mp-secondary': 'mp for secondary', '13mp': '13 mp', '16mp': '16 mp', '23mp': '23 mp', '20mp': '20 mp', '12mp': '12 mp','4gb':'4 gb','dualsim':'dual sim','feauture':'feature','gread':'great','..':'.','resposnse':'response','dscount':'discount','ofcourse':'of course','non-smartphone':'non smartphone','freindly':'friendly','perfec':'perfect','rs9999':'rs 9999','asssist':'assist','9000/-':'9000','speciific':'specific','phonebecause':'phone because','188gms':'188 gms','168gms':'168 gms','possesor':'processor','ramand':'ram and','youngeters':'youngsters','multi-':'multi','than32':'than 32','ssure':'sure','5megapixel':'5 mp','addtional':'additional','widely-adopted':'widely adopted','speciifc':'specific','avilable':'available','appliactions':'appliacations','xiomi':'xiaomi','multisim':'multi sim','applehas':'apple has','buawei':'huawei','specificctions':'specifications','non-smartphones':'non smartphones','spcific':'specific','itune':'itunes','brandyou':'brand you','goood':'good','awsome':'awesome','dual-primary':'dual primary','selfie':'photo','multitaking':'multitasking','widely-adopted':'widely adopted','gioned':'gionee','coolp':'coolpad','adbrand':'brand','advanatge':'advantage','ecpecially':'especially','movies/netflix':'movies and netflix','eqipped':'equipped','samsungmobile':'samsung mobile','samusng':'samsung','260euro':'260 euro', '750euro':'750 euro', '250euro':'250 euro', '550euro':'550 euro', '750euro':'750 euro'}\n",
        "val_mp={'good': 'good', 'black': 'black', 'android': 'and', 'y': 'yes', 'white': 'white', 'grey': 'grey', 'less': 'less', 'high': 'high', '15k': '15k', '10k': '10k', 'latest': 'latest', 'non': 'none', 'no': 'no', 'vivo': 'vivo', 'i': 'i', 'gold': 'gold', '15+': '15', 'windows': 'windows', '15k+': '15k', 'nokia': 'nokia', 'e': 'e', '16k+': '16k', '20k': '20k', '2019': '2019', '2k': '2k', '6gb': '6gb', '15': '15', 'jio': 'jio', 'f': 'f', 'blue': 'blue', '4+': '4', 'silver': 'silver', 'big': 'big', 'light': 'light', 'htc': 'htc', 'paradise': 'paradise', 'lenovo': 'lenovo', 'yoga tab 3': 'yoga tab 3', 'yes': 'yes', '400': '400', ' light': 'light', '64gb': '64gb', 'd': 'dual', 't': 't-mobile', 'non black': 'non-black', 'small': 'small', 'non and': 'ios', 'samsung': 'samsung', 'samsung ': 'samsung', 'expensive': 'expensive', '128': '128', 'non silver': 'non-silver', '16+': '16', '2016': '2016', '500': '500', '2017': '2017', '128 gb': '128gb', '800+': '800', 'apple': 'apple', '700': '700', '20': '20', 'and': 'and', 'black&blue': 'black', '650': '650', '64+': '64', 'may': 'may', '4000+': '4000', 'pink': 'pink', 'good  ': 'good', '400+': '400', '64': '64', 'non gunmetal': 'non-gunmetal', 'sony': 'sony', 'xperia xa ultra': 'xperia xa ultra', 'non oppo': 'vivo', 'lg': 'lg', 'acer': 'acer', 'iconia tab a700 ': 'iconia tab a700', 'non grey': 'non-grey', 'oppo': 'oppo', '350': '350', 'non crown gold': 'non-gold', 'pearl white\\n': 'white', 'recent': 'recent', '300': '300', '20+': '20', '32+': '32', 'blue||gold': 'blue||gold', '8000+': '8000', 'motorola': 'motorola', '150': '150', '12+': '12', '6': '6', '3': '3', '32': '32', 'galaxy note7': 'galaxy note7', '3000+': '3000', 'null': 'null', '13+': '13', '250': '250', 'aquamarine green': 'green', 's': 's', '200': '200', 'pearl white': 'white', 'huawei': 'huawei', 'u8150 ideos': 'u8150 ideos', 'blackberry': 'blackberry', '6000+': '6000', 'good      ': 'good', 'm': 'm', '16': '16', 'onyx black': 'black', 'green': 'green', 'heavy': 'heavy', 'bla': 'bla', ' 300': '300', '220': '220', 'sym': 'sym', 'iconia tab a501\\n': 'iconia tab a501', ' non and': 'ios', 'mic': 'mic', 'non dual': 'non-dual', 'titanium grey': 'grey', 'xiaomi': 'xiaomi', '800': '800', 'ios': 'ios', '64 gb': '64gb', '16 ': '16', '': '', 'chrome': 'chrome', 'gray': 'gray', 'non blue': 'non-blue', 'sony ericsson': 'ericsson', 'xperia arc s': 'xperia', '3500+': '3500', 'good     ': 'good', '10+': '10', 'asus': 'asus', '450': '450', '340': '340', 'leeco\\n': 'leeco', '160': '160', 'medium': 'medium', 'good        ': 'good', '2014': '2014', 'non gold': 'non-gold', '600': '600', '4': '4', '2015': '2015', '270': '270', '4.65 hd': 'hd', ' 250': ' 250', 'average': 'average', 'good       ': 'good', 'dual': 'dual', ' and': 'and', 'non vga': 'non-vga', 'orange': 'orange', 'xiamo': 'xiaomi', '1800+': '1800', 'gionee': 'gionee', '5': '5', '140': '140', 'non coolpad': 'non-coolpad', 'alcatel': 'alcatel', 'allview': 'allview', 'zte': 'zte', 'xiaomo ': 'xiaomi', '500+': '500', 'moderate': 'moderate', 'coolpad': 'coolpad', 'gigabyte': 'gigabyte', '2+': '2', 'tiz': 'tiz', 'micromax': 'micromax', '13': '13', 'non white': 'non-white', '280': '280', '3000': '3000', 'vodafone': 'vodafone', 'charcoal black\\n': 'black', 'oneplus': 'oneplus', 'vertu': 'vertu', '8': '8', '260': '260', '8+': '8', ' bla': ' bla', '3+': '3', 'meizu': 'meizu', 'archos': 'archos', 'google': 'google', '4500+': '4500', 'hp': 'hp'} \n",
        "intent_mp={'Phn_SelReq': 'selling', 'Booking_Req': 'booking'}\n",
        "u_action_mp={'null':'null','Phn_SelReq': 'phone', 'Rec_Slt': 'rec_slt', 'Cost_Q': 'cost', 'Color_Q': 'color', 'Feedback_Slt': 'feedback', 'Feedback': 'feedback', 'Booking_Req': 'booking', 'Thanks': 'thanks', 'DualSim_Q': 'dualsim', 'Released_Yr_Q': 'year', 'OS_Q': 'os', 'Camera_Q': 'camera', 'Rating_Q': 'rating', 'Confirm_Q': 'confirm', 'Battery_Q': 'battery', 'Memory_Q': 'memory', 'DuslSim_Q': 'dualsim', 'Review_Q': 'review', 'Specification_Q': 'specification', 'Discount_Q': 'discount', 'Weight_g_Q': 'weight', 'Display_Size_Q': 'size', 'Radio_Q': 'radio', 'Internal_RAM_Q,RAM_Q': 'ram', 'P_Camera_Q': 'camera', 'Internal_RAM_Q': 'ram', 'Greet': 'greet', 'P_Camera_Q,S_Camera_Q': 'camera', 'Confirm': 'confirm', 'Released_Yr_Q,Released_Month_Q': 'month', 'RAM_Q,Internal_RAM_Q': 'ram', 'Phn_Info': 'phone', 'S_Camera_Q': 'camera', 'Sim_Q': 'sim', 'RAM_Q': 'ram', 'GPS_Q': 'gps', 'P_Camera,S_Camera_Q': 'camera', 'RAM,_Q,Internal_RAM_Q': 'ram', 'SIM_Q': 'sim'}\n",
        "a_action_mp={'Specification_D': 'specification', 'Result': 'result', 'Cost_A': 'cost', 'Color_A ': 'color', 'Rephrase': 'rephrase', 'Success': 'success', 'Welcome': 'welcome', 'Color_A': 'color', 'DualSim_A': 'dualsim', 'Released_Yr_A': 'year', 'OS_A': 'os', 'Camera_A': 'camera', 'Rating_A': 'rating', 'Confirm': 'confirm', 'Battery_A': 'battery', 'Memory': 'memory', 'Review_A': 'review', 'Specification_A': 'specification', 'Discount_A': 'discount', 'Confirm_Q': 'confirm', 'Feedback': 'feedback', 'Feedback_R': 'feedback', 'Weight_g_A': 'weight', 'Display_Size_A': 'size', 'Radio_A': 'radio', 'Internal_RAM_A': 'ram', 'RAM_A': 'ram', 'P_Camera_A': 'camera', 'S_Camera_A': 'camera', 'ReleasedYear_A': 'year', 'ReleasedMonth_A': 'month', 'RAM_Q': 'ram', 'Greet': 'greet', 'P_Camera_Q': 'camera', 'Sim_A': 'sim', 'Cost_Q': 'cost', 'GPS_A': 'gps', 'Released_Month_A': 'month', 'Weight_g_Q': 'weight', 'P_Camera': 'camera', 'null': 'null', 'SIM_A': 'sim','Memory_A':'memory'} \n",
        "correct={'Camera': 'camera', 'Battery': 'battery', 'Color': 'color', 'OS': 'os', 'Dualsim': 'dual', 'Touch': 'touch', 'Memory': 'memory', 'Cost': 'cost', 'Rating': 'rating', 'Price': 'price', 'Released_Yr': 'year', 'Company': 'company', 'Model': 'model', 'Total_Review': 'review', 'DualSim': 'dual', 'RAM': 'ram', 'Display_Size': 'size', 'Weight_g': 'weight', 'Brand': 'brand', 'Radio': 'radio', 'Internal_RAM': 'ram', 'Sim': 'sim', 'P_Camera': 'camera', 'S_Camera': 'camera', 'Internal_Ram': 'ram', 'GPS': 'gps', 'Internal RAM': 'ram', 'Released_ Yr': 'year', 'Released_Month': 'month', 'SIM': 'sim', 'weight_g': 'weight', 'Weight_G': 'weight', 'Displa_Size': 'size', ' Internal_RAM': 'ram', 'nll': 'nll', 'battery': 'battery', 'Dsplay_Size': 'size', ' Model': 'model', 'Weight': 'weight', 'Apple': 'apple', ' P_Camera': 'camera'}"
      ],
      "execution_count": null,
      "outputs": []
    },
    {
      "cell_type": "code",
      "metadata": {
        "id": "cKhNNPA4fLop",
        "colab_type": "code",
        "colab": {}
      },
      "source": [
        "mem_arr=['4','6']\n",
        "year_arr=['2000', '2001', '2002', '2003', '2004', '2005', '2006', '2007', '2008', '2009', '2010', '2011', '2012', '2013', '2014', '2015', '2016', '2017', '2018', '2019']\n",
        "month_arr=['january', 'february', 'march', 'april', 'may', 'june', 'july', 'august', 'september', 'october', 'november', 'december']\n",
        "rating_arr=['4 . 1','4 . 2','4 . 3','4 . 4','4 . 5','4 . 6','4 . 7','4 . 8','4 . 9','5 . 0','1','2','3','4','5'] \n",
        "bat_arr=['3800', '41000', '38000', '3000', '2400', '3300', '24', '3260', '1785', '2870', '2700', '7300', '32', '2900', '4000', '2620', '2850', '2300', '4010', '2950', '2500', '6020', '3505', '2730', '5000', '304', '2770', '4100', '1830', '2915', '2650', '1200', '2000', '4550', '2100', '1750', '400', '1960', '2050', '2800', '2600', '2530', '2750', '1950', '2110', '2910', '3020', '2760', '4800']\n",
        "cam_arr=['13', '15', '10', '20', '16', '12', '23', '7', '5', '19', '8', '21', '4', '22', '64', '2', '1']\n",
        "os_arr=['android','and','ios','mic','windows','blackberry','symphony','mm','coloros','fir']\n",
        "color_arr=['black', 'mystic black', 'pure white', 'various', 'aquamarine green', 'graphite black', 'titan black', 'titanium black', 'silver', 'white', 'essential white', 'rock black', 'gentle black', 'titanium gray', 'blue', 'soft-touch black', 'satin gold', 'venus gold', 'halo gold', 'gold', 'volcanic grey', 'slate', 'yellow', 'midnight blue', 'lemon yellow', 'dark gray', 'full white', 'bluish black', 'mozilla orange', 'cloudy', 'red', 'green', 'cranberry pink', 'blue', 'flash red', 'twilight blue', 'reddish black', 'ardesia', 'dark blue', 'space gray', 'jet black', 'black(8', 'shimmer gold', 'navy black', 'glacier grey', 'glacier gray', 'gray', 'titanium grey', 'sand gold', 'sapphire black', 'glacier silver', 'charcoal black', 'rosa', 'pure black', 'rose gold', 'osmium black', 'meteorite black', 'burgundy red', 'sapphire black', 'crystal white', 'amethyst gray', 'royal blue', 'grey', 'neon orange', 'midnight black', 'mineral black', 'forest', 'champagne white', 'royal gold', 'champagne gold', 'brown', 'champagne gold', 'glossy black', 'cherry gold', 'jazz gold', 'mocha gold', 'rose gold', 'pearl white', 'quite black', 'amazing silver', 'brilliant black', 'stone black', 'black gold', 'gunmetal gray', 'carbon gray', 'dazzling gold', 'meteor gray', 'meteor grey', 'marble white', 'white birch', 'glacier blue', 'meridian gray', 'indigo black', 'santorini white', 'polar white', 'vanilla white', 'glacial silver', 'violet', 'radical yellow', 'stealth black', 'california blue', 'domino', 'active black', 'clearwater', 'active white', 'brown (teflon coating)', 'sophisticated black', 'yes', 'metal grey', 'amber gold', 'aurora blue', 'ceramic white', 'mystic silver', 'golden black', 'haze gold', 'graphite black', 'agate red', 'pink', 'prestige gold', 'obsidian black', 'moonlight silver', 'aluminium', 'luxurious gold', 'moonlight silver', 'obsidian black', 'snow white', 'crystal black', 'metallic black', 'crystal blue', 'matt black', 'shadow black', 'black body', 'orange', 'deep blue', 'icy white', 'dark blue', 'dark grey', 'metallic brown', 'aurora black', 'onyx black', 'gunmetal grey', 'matte black', 'platinum', 'matte white', 'tuxedo black', 'crimson', 'ebony', 'golden', 'titanium', 'flamingo red', 'mystic white', 'titan', 'indigo', 'titan silver', 'metallic black', 'space black', 'carbon', 'brilliant bronze', 'navy', 'blue', 'metallic gray', 'metallic silver', 'platinum silver', 'silk white', 'blue (boost mobile)', 'titan silver', 'purple', 'black & silver', 'champanage gold', 'mint green', 'black (front panel)', 'black front & white back', 'black (front)', 'white champagne', 'magnetic black', 'classy silver', 'cocoa brown', 'matte cyan', 'glossy cyan', 'iron gray', 'iron grey', 'licorice black', 'lunar gray', 'metallic cherry', 'lunar grey', 'black ballistic nylon', 'deep sea blue', 'black lens', 'champagne', 'licorice', 'cloud gray', 'electric magic black', 'golden bronze', 'black slate', 'midnight titanium', 'arte black', 'bright orange', 'glossy green', 'bright orange', 'bright green', 'cyan', 'lime green', 'matte black', 'steel dark', 'cool grey', 'nokia oro light', 'dark steel', 'frosty metal', 'silver grey', 'charcoal black', 'azure', 'carbon black', 'blue on white', 'chrome', 'white steel', 'black and cyan', 'gunmetal', 'graphite', 'onyx', 'sandstone black', 'obsidian', 'marine blue', 'steel blue', 'black sky', 'blue coral', 'camo green', 'black onyx', 'black sapphire', 'white frost', 'smoky titanium', 'white pearl', 'frosted white', 'titanium green', 'iris charcoal', 'electric blue', 'dazzling white', 'pebble blue', 'cream white', 'dive blue', 'black and gold', 'dark brown', 'luxury brown', 'urban grey', 'metallic blue', 'chic white', 'metallic gray and white', 'navy blue', 'carbon blue', 'noble black', 'metallic gray', 'black and grey', 'deep black', 'black and bronze', 'modern black', 'hanayome white', 'snowy white', 'luminous chrome', 'mineral black', 'serene black', 'classic black', 'blue gradient', 'iconic black', 'sensous black', 'elegant black', 'solid black', 'dark ale', 'sunburst', 'dark gray metallic', 'jet calf', 'onyx calf', 'jet', 'crown gold', 'ceramic black', 'coffee brown', 'moonstone grey', 'ion gold']\n",
        "brand_arr=['xioami','apple','vodafone','iphone','redmi','zenfone','oppo','vivo','nokia','samsung','allview','htc','gionee','oneplus','accer','acer','sonim','qmobile','panasonic','verykool','huawei','asus','lenovo','coolpad','alcatelis','jio']\n",
        "model_arr=['model aa', 'model b', 'model ff', 'model d', 'sure , model a', 'model h', 'model j', 'model ff', 'model j', 'model e', 'model k', 'model h', 'model h', 'model e', 'model b', 'model ff', 'model a', 'model ff', 'xplay6', 'iphone 7 plus', 'desire 10 pro', 'zuk z2 pro', 'model lumia 950', 'dtek60', 'moto maxx', 'liquid x2', 'galaxy j7 ( 2017 )', 'one max', 'a1', 'u ultra', 'pixel v2', 'mate 9 porsche design', 'liquid z520', 'one x10', 'galaxy c7 pro', 'x4 soul', 'galaxy c7 pro', 'redmi note prime', 'razr d1', 'zenfone 3 zoom ze553kl', 'moto maxx', 'f3 plus', 'galaxy c9 pro', 'r9s plus', 'f3', 'honor mx6', 'sure , v5s', 'xperia x performance', 'liquid jade primo', 'phone ms1', 'r11', 'k8 ( 2017 )', 'n3', 'galaxy c9 pro', 'v5s', 'xperia z4 tablet lte', '3t', 'galaxy j7 max', 'x9', 'v5s', 'a57', 'moto maxx', 'a57', 'galaxy c9 pro', 'x5max platinum edition', 'model xperia xa1 ultra', 'xperia xz premium', '2 3g', 'xperia xz premium', 'galaxy c7 pro', 'xperia xz', 'liquid jade primo', 'xperia l1', 'ms1', 'xperia xa1 ultra', 'mate 9', 'model desire 10 pro', 'xperia xz premium', 'mate 9', 'liquid x2', 'one e9+', 'one x10', 'marathon m5 plus', 'w909', 'zenfone live zb501kl', 'mate 9', 'axon lux', 'honor 7', 'galaxy a5 duos', 'a1', 'iconia talk s', 'model galaxy j3 emerge', 'liquid jade primo', 'note 5 lite', 'xperia xa ultra', 'xperia e4 dual', 'vibe p1m', 'xplay6', 'blade s7', 'x4 soul', 'zenfone 3s max zc521tl', 'pop 7 lte', 'dtek60', 'model nova 2', 'a59', 'r9 plus', 'model galaxy c9 pro', 'satio ( idou )', 'model mi note 2', 'galaxy j7 max', 'model galaxy c9 pro', 'galaxy s5 neo', 'model moto e3 power', 'droid turbo', 'model f1', 'model galaxy c7', 'r11 plus', 'signature touch ( 2015 )', 'then elife e8', 'mi 5c', 'blade a2 plus', 'galaxy j7 max', 'x7', 'a6600 plus', 'g6', 'm3 max', 'liquid x2', 'galaxy j3 ( 2017 )', 'one x10', 'hero cdma', 'moto x play dual sim', 'u11', '5', 'elife e8', 'zenfone 5 a500kl', 'iphone 7 plus', 'honor note 8', 'sure , g6', 'aurora', 's10', 's10', 'desire 830', 'galaxy s8', 'galaxy j7 ( 2016 )', 'v5 plus', 'redmi 3 pro', 'blade v8', 'axon 7 max', 'mi note 2', 'galaxy c9 pro', 'noir z8', 'xperia xa1 ultra', 'galaxy s7 active', \"porsche design p'9982\", '5', 'zenfone ar zs571kl', 'zenfone 3s max zc521tl', 'honor 9', 'nova 2', 'leap', 's10', 's9', 'pixel', 'moto e4 plus', 'eluga i3 mega', 'galaxy c7 pro', 'v3max', 'model y67', 'y67', 'idol 4s', 'blade a2 plus', 'a37', 'galaxy note7', 'galaxy a7 ( 2017 )', 'xperia c5 ultra dual', 'xperia xa dual', 'sure , model redmi note 4', 'mi 6', 'xplay5', 'z2', 'ms1', 'f1', 'f3 plus', 'liquid x2', 'zenfone 3 max zc553kl', 'lumia 630 dual sim', 'find 7a', 'galaxy s8+', 'galaxy s7', 'eluga ray x', 'xperia xz premium', 'mi note pro', 'iphone 6 plus', 'zenfone 3 laser zc551kl', 'z30', 'model butterfly 3', 'sure , f3', 'galaxy xcover 4', 'u ultra', 'one m9s', 'k6', 'g6', 'r7 plus', 'iconia talk s', 'x6s', 'blade qlux 4g', 'axon lux', 'noir e8', 'model zenfone live zb501kl', 'dtek50', 'nowadays s9', 'e7', 'model lumia 640 xl lte dual sim', 'model iphone 6s', 'sure , x5max platinum edition', 'model aurora', 'okay highway', 'ipaq hw6515', 'one m8s', 'desire 626g+', 'model honor 9', \"model porsche design p'9983\", 'r11', 'model moto e dual sim ( 2nd gen )', 'mc55', 'well , then v5s', 'model redmi 3 pro', 'p8 lite ( 2017 )', '6', 'galaxy xcover 4', 'sure , x9', 'moto e3 power', 'm2017', 'marathon m4', 'xperia z2a', 'zenfone 6 a601cg', 'aurora', 'iphone 7', 'galaxy a7 ( 2017 )', 'xperia e4g dual', 'xperia e5', 'xperia x', 'have a look at f5', 'sure , moto z2 play', 'iphone 7', 'conjr', 'fierce xl', 'p8 energy pro', 'v2 viper', 'blade v8', 'yutopia', '5 zs550kl', 'zenfone live zb501kl', 'a1 plus', 'cool s1', 'v10', 'r7 plus', 'gsmart classic lite', '1', 'k20 plus', 'mytouch q 2', 'canvas sliver 5 q450', 'f1 plus', 'xperia l1', '10 evo', 'honor 8 pro', 'e5', 'galaxy j2 prime', 'zenfone 2 deluxe ze551ml', 'marathon m5 plus', 'e6', 'eluga switch', 'm6s plus', 'sure , y7', 'sure , r3', 'moto z2 play', 'moto e4 plus ( usa )', 'canvas tab p666', 'p10 plus', 'le max 2', 'smart platinum 7', 'x7 plus', 'padfone infinity 2', 'a1 plus', 'x', 'eluga pulse', 'signature touch ( 2015 )', 'model v3', 'r9s', 'iphone 5s', 'pure xl', 'one ( m8 ) for windows', 'mate 9 pro', 'honor 3x pro', 'x10', 'model galaxy j1 ( 2016 )', 'galaxy c9 pro', 'honor magic', 'moto z force', 'light weight moto x ( 2nd gen )', 'one u11', 'iphone 7 plus', 'iphone 7', 'z30', 'zenfone go zb500kl', 'zenpad 3s 10 z500kl', '5 zs550kl', 'vivo iv', 'galaxy a7 ( 2017 )', 'lumia 2520', 'dtek50', 'galaxy c7', 'sure , w909', 'slate6 voicetab', 'model galaxy j7 prime', 'x venture', 'y28', 'blade s7', 'v5', 'tab prime 6', '3t', 'f3', 'one x10', 'x7', 'v3', 'xperia xa1 ultra', 'x6s', 'model xperia xa dual', 'xperia xa1', 'f3 plus', 'iphone 6s plus', 'model fire c', 'model zenfone ar zs571kl', 'priv', 'model iphone 7', 'galaxy s8', 'model s6 pro', 's9', 'model pioneer p6', 'model honor 8', 'model w909', 'blade v8', 'model blade g', 'iphone 6s', 'galaxy s8', 'model galaxy a5 ( 2017 )', 'x2 soul', 'mediapad m3 lite 10', '3', 's5015 spark ii', 'galaxy j3 emerge', 'galaxy note7', 'noir e8', 'galaxy xcover 4', 'mytouch q', 'canvas pulse 4g e451', 'pure xl', 's6', 'mi max 2', 'redmi 3 pro', 'redmi 3s', 'yutopia', 'pro 6 plus', 'iphone 5', '5 )', 'x3 soul pro', 'zenfone 5 a500kl', 'galaxy j7 max', 'galaxy j1 ace', 'galaxy j1 ace', 'galaxy s6 edge+', 'desire 728 dual sim', 'one m9s', 'a57', 'f1', 'eluga switch', 'pixel xl', 'one x10', 'z25', 'liquid z6 plus', 's9', 'honor 5a', 'model yoga tab 3 plus', 'u10', 'noir z8', 'xperia xa ultra', 'xp7', 'sl6010 cyprus lte', 'galaxy s8+']\n",
        "ref_arr=['2012-','2012_','2020_','2020-','1212_','1212-'] \n",
        "quarter_to_month={'q4.released2009q4':'december','q1':'march','q2':'june','q3':'september','q4':'december','1q':'march','2q':'june','3q':'september','4q':'december'}"
      ],
      "execution_count": null,
      "outputs": []
    },
    {
      "cell_type": "code",
      "metadata": {
        "id": "fNjcMKYpfRMq",
        "colab_type": "code",
        "colab": {
          "base_uri": "https://localhost:8080/",
          "height": 52
        },
        "outputId": "1ff4f2e5-28e3-4483-cb76-69639931e0fc"
      },
      "source": [
        "vocab_f=open('data/glove/glove.6B.50d.txt',encoding='utf-8')\n",
        "word_to_id={} \n",
        "word_to_emb={}\n",
        "val=4\n",
        "word_to_id['<pad>']=3 \n",
        "word_to_id['<unk>']=0\n",
        "word_to_id['<start>']=1\n",
        "word_to_id['<end>']=2\n",
        "for line in vocab_f:\n",
        "  word_to_id[line.split()[0]]=val \n",
        "  word_to_emb[line.split()[0]]=line.split()[1:]  \n",
        "  val+=1 \n",
        "print(word_to_id['20']) \n",
        "print(len(word_to_emb['happy']))"
      ],
      "execution_count": null,
      "outputs": [
        {
          "output_type": "stream",
          "text": [
            "328\n",
            "50\n"
          ],
          "name": "stdout"
        }
      ]
    },
    {
      "cell_type": "code",
      "metadata": {
        "id": "Gf0B2mqBfd_4",
        "colab_type": "code",
        "colab": {}
      },
      "source": [
        "word_to_emb['<unk>']=[0]*50 \n",
        "word_to_emb['<pad>']=[0]*50 \n",
        "temp_agent=[word_to_emb['<unk>']]  \n",
        "import pandas as pd\n",
        "df=pd.read_excel('data/SharedData.xlsx') \n",
        "User=[] \n",
        "User_Arr=[]\n",
        "for row in df['User']:\n",
        "    if type(row)==int:\n",
        "        User.append([]) \n",
        "    else:\n",
        "        User[-1].append(row.lower()) \n",
        "        User_Arr.append(row.lower()) \n",
        "Agent=[]\n",
        "Agent_Arr=[]\n",
        "for row in df['Agent']:\n",
        "    if type(row)==int:\n",
        "        Agent.append([]) \n",
        "    else:\n",
        "        Agent[-1].append(row.lower()) \n",
        "        Agent_Arr.append(row.lower()) \n",
        "Intent=[]\n",
        "Intent_Arr=[]\n",
        "for row in df['Intent']:\n",
        "    if type(row)==int:\n",
        "        Intent.append([]) \n",
        "    else:\n",
        "        Intent[-1].append(row.lower()) \n",
        "        Intent_Arr.append(row.lower()) \n",
        "Slot=[]\n",
        "Slot_Arr=[]\n",
        "Value=[]\n",
        "Value_Arr=[]\n",
        "temp_slot=[]\n",
        "temp_val=[]\n",
        "is_slot=[]\n",
        "cnt=0\n",
        "for row in df['Slot']:\n",
        "    if type(row)==int:\n",
        "        Slot.append([]) \n",
        "        Value.append([]) \n",
        "        #temp_slot=[]\n",
        "        #temp_val=[]\n",
        "    elif type(row)==float:\n",
        "        Slot[-1].append(['null']) \n",
        "        Value[-1].append(['null'])\n",
        "        Slot_Arr.append(['null']) \n",
        "        Value_Arr.append(['null']) \n",
        "        temp_slot=['null'] \n",
        "        temp_val=['null']\n",
        "    else: \n",
        "        temp_slot=[] \n",
        "        temp_val=[] \n",
        "        part=row.split(',') \n",
        "        Slot[-1].append([]) \n",
        "        Value[-1].append([])\n",
        "        for p in part:\n",
        "          Slot[-1][-1].append(correct[p.split('-')[0]]) \n",
        "          temp_slot.append(correct[p.split('-')[0]]) \n",
        "          if len(p.split('-'))>1:\n",
        "            Value[-1][-1].append(val_mp[p.split('-')[1].lower()]) \n",
        "            temp_val.append(val_mp[p.split('-')[1].lower()])\n",
        "            if temp_val[-1]=='t':\n",
        "                temp_val[-1]='t-mobile'\n",
        "          else:\n",
        "            Value[-1][-1].append('null') \n",
        "            temp_val.append('null') \n",
        "    if type(row)!=int and type(row)!=float:\n",
        "      Slot_Arr.append([]) \n",
        "      for a in temp_slot:\n",
        "        Slot_Arr[-1].append(a)  \n",
        "      Value_Arr.append([]) \n",
        "      for a in temp_val:\n",
        "        Value_Arr[-1].append(a)    \n",
        "A_Action=[]\n",
        "A_Action_Arr=[]\n",
        "for row in df['A_Action']:\n",
        "    if type(row)==int:\n",
        "        A_Action.append([])\n",
        "    elif type(row)==float:\n",
        "        A_Action[-1].append('null') \n",
        "    else:\n",
        "        row=row.split(',')[0]\n",
        "        A_Action[-1].append(a_action_mp[row]) \n",
        "        A_Action_Arr.append(a_action_mp[row]) \n",
        "U_Action=[]\n",
        "U_Action_Arr=[]\n",
        "for row in df['U_Action']:\n",
        "    if type(row)==int:\n",
        "        U_Action.append([])\n",
        "    elif type(row)==float:\n",
        "        U_Action[-1].append('null') \n",
        "        U_Action_Arr.append('null')  \n",
        "    else:\n",
        "        U_Action[-1].append(u_action_mp[row]) \n",
        "        U_Action_Arr.append(u_action_mp[row])"
      ],
      "execution_count": null,
      "outputs": []
    },
    {
      "cell_type": "code",
      "metadata": {
        "id": "u9djDhCdfmwx",
        "colab_type": "code",
        "colab": {}
      },
      "source": [
        "word_to_emb['allview']=[str((float(word_to_emb['acer'][i])+float(word_to_emb['asus'][i]))/2) for i in range(50)]\n",
        "word_to_emb['celkon']=[str((float(word_to_emb['zte'][i])+float(word_to_emb['meizu'][i]))/2) for i in range(50)]\n",
        "word_to_emb['coolpad']=[str((float(word_to_emb['vivo'][i])+float(word_to_emb['oppo'][i]))/2) for i in range(50)]\n",
        "word_to_emb['garmin-asus']=word_to_emb['asus']\n",
        "word_to_emb['gionee']=[str((float(word_to_emb['xiaomi'][i])+float(word_to_emb['vivo'][i]))/2) for i in range(50)] \n",
        "word_to_emb['yezz']=[str((float(word_to_emb['zte'][i])+float(word_to_emb['pantech'][i]))/2) for i in range(50)]\n",
        "word_to_emb['i-mate']=[str((float(word_to_emb['kyocera'][i])+float(word_to_emb['jolla'][i]))/2) for i in range(50)]\n",
        "word_to_emb['intex']=[str((float(word_to_emb['micromax'][i])+float(word_to_emb['lava'][i]))/2) for i in range(50)]\n",
        "word_to_emb['leeco']=[str((float(word_to_emb['intex'][i])+float(word_to_emb['i-mate'][i]))/2) for i in range(50)]\n",
        "word_to_emb['oneplus']=[str((float(word_to_emb['apple'][i])+float(word_to_emb['samsung'][i]))/2) for i in range(50)]\n",
        "word_to_emb['karbonn']=word_to_emb['karbon']\n",
        "word_to_emb['prestigio']=[str((float(word_to_emb['apple'][i])+float(word_to_emb['asus'][i]))/2) for i in range(50)]\n",
        "word_to_emb['qmobile']=[str((float(word_to_emb['nokia'][i])+float(word_to_emb['oppo'][i]))/2) for i in range(50)]\n",
        "word_to_emb['verykool']=[str((float(word_to_emb['coolpad'][i])+float(word_to_emb['lg'][i]))/2) for i in range(50)]\n",
        "word_to_emb['wiko']=[str((float(word_to_emb['oppo'][i])+float(word_to_emb['asus'][i]))/2) for i in range(50)]\n",
        "word_to_emb['sonim']=[str((float(word_to_emb['sony'][i])+float(word_to_emb['samsung'][i]))/2) for i in range(50)]\n",
        "word_to_emb['sony ericsson']=word_to_emb['ericsson'] "
      ],
      "execution_count": null,
      "outputs": []
    },
    {
      "cell_type": "code",
      "metadata": {
        "id": "VufO1xtBf2ef",
        "colab_type": "code",
        "colab": {}
      },
      "source": [
        "inp_encoder=[]\n",
        "mx_encoder_len=0 \n",
        "for i in range(500):\n",
        "  for j in range(len(User[i])):\n",
        "    inp_encoder.append([])\n",
        "    if j==0:\n",
        "      bspans=[]\n",
        "      for k in range(15):\n",
        "        inp_encoder[-1].append([0]*50) \n",
        "    else:\n",
        "      #bspans adding \n",
        "      if Slot[i][j][0]!='null':\n",
        "        for k in range(len(Slot[i][j-1])):\n",
        "          bspans.append([Slot[i][j-1][k],Value[i][j-1][k]])\n",
        "      sent=padd(Agent[i][j-1])\n",
        "      for k in range(15):\n",
        "        if sent[k] in word_to_emb:\n",
        "          inp_encoder[-1].append(word_to_emb[sent[k]])\n",
        "        else:\n",
        "          inp_encoder[-1].append(word_to_emb['<unk>']) \n",
        "    \n",
        "    sent=padd(User[i][j]) \n",
        "    for k in range(15):\n",
        "      if sent[k] in word_to_emb:\n",
        "        inp_encoder[-1].append(word_to_emb[sent[k]]) \n",
        "      else:\n",
        "        inp_encoder[-1].append(word_to_emb['place']) \n",
        "    for k in range(len(bspans)):\n",
        "      for l in range(2):\n",
        "        if bspans[k][l] in word_to_emb:\n",
        "          inp_encoder[-1].append(word_to_emb[bspans[k][l]]) \n",
        "        else:\n",
        "          inp_encoder[-1].append(word_to_emb['place'])  \n",
        "    mx_encoder_len=max(len(inp_encoder[-1]),mx_encoder_len)  \n",
        "for i in range(len(inp_encoder)):\n",
        "  inp_len=len(inp_encoder[i])\n",
        "  for j in range(40-inp_len):\n",
        "    inp_encoder[i].append(word_to_emb['<unk>']) "
      ],
      "execution_count": null,
      "outputs": []
    },
    {
      "cell_type": "code",
      "metadata": {
        "id": "lpRsKNa1mT_R",
        "colab_type": "code",
        "colab": {}
      },
      "source": [
        "out_encoder=[]\n",
        "out_encoder_len=0 \n",
        "for i in range(500):\n",
        "  for j in range(len(User[i])):\n",
        "    out_encoder.append([])\n",
        "    if j==0:\n",
        "      bspans=[] \n",
        "      #bspans adding \n",
        "    if Slot[i][j][0]!='null':\n",
        "      for k in range(len(Slot[i][j])):\n",
        "        bspans.append([Slot[i][j][k],Value[i][j][k]]) \n",
        "    for k in range(len(bspans)):\n",
        "      for l in range(2):\n",
        "        if bspans[k][l] in word_to_emb:\n",
        "          out_encoder[-1].append(word_to_emb[bspans[k][l]]) \n",
        "        else:\n",
        "          out_encoder[-1].append(word_to_emb['place'])  \n",
        "    out_encoder_len=max(len(out_encoder[-1]),out_encoder_len) \n",
        "for i in range(len(out_encoder)):\n",
        "  out_len=len(out_encoder[i]) \n",
        "  for j in range(12-out_len): \n",
        "    out_encoder[i].append(word_to_emb['<unk>']) \n",
        "  out_encoder[i]=out_encoder[i][:12] "
      ],
      "execution_count": null,
      "outputs": []
    },
    {
      "cell_type": "code",
      "metadata": {
        "id": "1KMSG8CV2IKV",
        "colab_type": "code",
        "colab": {
          "base_uri": "https://localhost:8080/",
          "height": 35
        },
        "outputId": "48ea1995-227c-49a7-a6f2-009ad726c70b"
      },
      "source": [
        "len(out_encoder)"
      ],
      "execution_count": null,
      "outputs": [
        {
          "output_type": "execute_result",
          "data": {
            "text/plain": [
              "4201"
            ]
          },
          "metadata": {
            "tags": []
          },
          "execution_count": 84
        }
      ]
    },
    {
      "cell_type": "code",
      "metadata": {
        "id": "LpLFOZ9hxLi7",
        "colab_type": "code",
        "colab": {}
      },
      "source": [
        "def encoder_model(input,output):\n",
        "  model = Sequential()\n",
        "  model.add(LSTM(100, activation='relu', input_shape=(40,50)))\n",
        "  model.add(RepeatVector(12))\n",
        "  model.add(LSTM(100, activation='relu', return_sequences=True))\n",
        "  model.add(TimeDistributed(Dense(50)))\n",
        "  model.compile(optimizer='adam', loss='mse')\n",
        "  # fit model\n",
        "  model.fit(input, output, epochs=3, verbose=0) \n",
        "  return model"
      ],
      "execution_count": null,
      "outputs": []
    },
    {
      "cell_type": "code",
      "metadata": {
        "id": "ulrKTIYFxzjm",
        "colab_type": "code",
        "colab": {}
      },
      "source": [
        "inp_encoder_np=np.array(inp_encoder).reshape(4201,40,50) \n",
        "out_encoder_np=np.array(out_encoder).reshape(4201,12,50) \n",
        "model=encoder_model(inp_encoder_np,out_encoder_np)  "
      ],
      "execution_count": null,
      "outputs": []
    },
    {
      "cell_type": "code",
      "metadata": {
        "id": "S5QTFGqg4MWu",
        "colab_type": "code",
        "colab": {}
      },
      "source": [
        "inp_temp=model.predict(inp_encoder_np[:10]) \n",
        "print(inp_temp[0])"
      ],
      "execution_count": null,
      "outputs": []
    },
    {
      "cell_type": "code",
      "metadata": {
        "id": "yd5YT0E58d8m",
        "colab_type": "code",
        "colab": {
          "base_uri": "https://localhost:8080/",
          "height": 52
        },
        "outputId": "dfb34cda-7b2b-454b-e8e9-2732541461d6"
      },
      "source": [
        "mp_sl,mp_vl={},{} \n",
        "value,slot=[],[] \n",
        "cnt_val,cnt_slt=0,0\n",
        "for i in range(500):\n",
        "  for j in range(len(Slot[i])):\n",
        "    for k in range(len(Slot[i][j])):\n",
        "      slt,val=Slot[i][j][k],Value[i][j][k]\n",
        "      if slt not in mp_sl:\n",
        "        mp_sl[slt]=cnt_slt \n",
        "        cnt_slt+=1 \n",
        "      if val not in mp_vl:\n",
        "        mp_vl[val]=cnt_val \n",
        "        cnt_val+=1 \n",
        "slot_arr=[] \n",
        "for i in range(500):\n",
        "  for j in range(len(Slot[i])):\n",
        "    slot_arr.append([])  \n",
        "    for k in range(cnt_slt):\n",
        "      slot_arr[-1].append(0) \n",
        "    for slt in Slot[i][j]:\n",
        "      slot_arr[-1][mp_sl[slt]]=1  \n",
        "print(len(slot_arr))\n",
        "print(slot_arr[996])"
      ],
      "execution_count": null,
      "outputs": [
        {
          "output_type": "stream",
          "text": [
            "4201\n",
            "[1, 0, 0, 0, 0, 0, 0, 0, 0, 0, 0, 0, 0, 0, 0, 0, 0, 0, 0, 0, 0, 0, 0, 0, 0]\n"
          ],
          "name": "stdout"
        }
      ]
    },
    {
      "cell_type": "code",
      "metadata": {
        "id": "D8iMT9fgFs5a",
        "colab_type": "code",
        "colab": {}
      },
      "source": [
        "inp_slot=[] \n",
        "out_slot=[]\n",
        "for i in range(4201):\n",
        "  for j in range(len(Slot_Arr[i])):\n",
        "    out_slot.append([])\n",
        "    inp_slot.append([]) \n",
        "    for k in range(40):\n",
        "      inp_slot[-1].append(inp_encoder[i][k]) \n",
        "    for k in range(25):\n",
        "      if mp_sl[Slot_Arr[i][j]]==k:\n",
        "        out_slot[-1].append(1) \n",
        "      else:\n",
        "        out_slot[-1].append(0) "
      ],
      "execution_count": null,
      "outputs": []
    },
    {
      "cell_type": "code",
      "metadata": {
        "id": "e0YFbUrnDrHD",
        "colab_type": "code",
        "colab": {}
      },
      "source": [
        "def model1(X,Y,input_size1,input_size2,output_size):\n",
        "  e_m=Sequential()\n",
        "  e_m.add(Bidirectional(LSTM(256,input_shape=(input_size1,input_size2))))\n",
        "  # e_m.add(Dropout(0.5)) \n",
        "  # e_m.add(Dense(100,activation='relu'))\n",
        "  em=Bidirectional(LSTM(256,input_shape=(input_size1,input_size2)))\n",
        "  encoder_outputs, state_h, state_c = e_m(X)\n",
        "  m=Sequential()(encoder_outputs) \n",
        "  m.add(Dense(102,activation='relu'))\n",
        "  m.add(Dropout(0.5))\n",
        "  m.add(Dense(output_size,activation='softmax'))\n",
        "  decoder_output=m(encoder_outputs)\n",
        "  m.compile('Adam','categorical_crossentropy',['accuracy'])\n",
        "  m.fit(X,Y,epochs=30)\n",
        "  return m "
      ],
      "execution_count": null,
      "outputs": []
    },
    {
      "cell_type": "code",
      "metadata": {
        "id": "Kal5Ii7RD_RR",
        "colab_type": "code",
        "colab": {
          "base_uri": "https://localhost:8080/",
          "height": 1000
        },
        "outputId": "b65ae1c7-f265-433b-fbd7-9f6712c2e26e"
      },
      "source": [
        "inp_tf=tf.convert_to_tensor(inp_encoder_np) \n",
        "model_slot=model1(inp_tf,np.array(slot_arr),40,50,len(slot_arr[0])) "
      ],
      "execution_count": null,
      "outputs": [
        {
          "output_type": "error",
          "ename": "TypeError",
          "evalue": "ignored",
          "traceback": [
            "\u001b[0;31m---------------------------------------------------------------------------\u001b[0m",
            "\u001b[0;31mTypeError\u001b[0m                                 Traceback (most recent call last)",
            "\u001b[0;32m<ipython-input-156-01e4e8e9f505>\u001b[0m in \u001b[0;36m<module>\u001b[0;34m()\u001b[0m\n\u001b[1;32m      1\u001b[0m \u001b[0minp_tf\u001b[0m\u001b[0;34m=\u001b[0m\u001b[0mtf\u001b[0m\u001b[0;34m.\u001b[0m\u001b[0mconvert_to_tensor\u001b[0m\u001b[0;34m(\u001b[0m\u001b[0minp_encoder_np\u001b[0m\u001b[0;34m)\u001b[0m\u001b[0;34m\u001b[0m\u001b[0;34m\u001b[0m\u001b[0m\n\u001b[0;32m----> 2\u001b[0;31m \u001b[0mmodel_slot\u001b[0m\u001b[0;34m=\u001b[0m\u001b[0mmodel1\u001b[0m\u001b[0;34m(\u001b[0m\u001b[0minp_tf\u001b[0m\u001b[0;34m,\u001b[0m\u001b[0mnp\u001b[0m\u001b[0;34m.\u001b[0m\u001b[0marray\u001b[0m\u001b[0;34m(\u001b[0m\u001b[0mslot_arr\u001b[0m\u001b[0;34m)\u001b[0m\u001b[0;34m,\u001b[0m\u001b[0;36m40\u001b[0m\u001b[0;34m,\u001b[0m\u001b[0;36m50\u001b[0m\u001b[0;34m,\u001b[0m\u001b[0mlen\u001b[0m\u001b[0;34m(\u001b[0m\u001b[0mslot_arr\u001b[0m\u001b[0;34m[\u001b[0m\u001b[0;36m0\u001b[0m\u001b[0;34m]\u001b[0m\u001b[0;34m)\u001b[0m\u001b[0;34m)\u001b[0m\u001b[0;34m\u001b[0m\u001b[0;34m\u001b[0m\u001b[0m\n\u001b[0m",
            "\u001b[0;32m<ipython-input-155-6fedd4c2a47e>\u001b[0m in \u001b[0;36mmodel1\u001b[0;34m(X, Y, input_size1, input_size2, output_size)\u001b[0m\n\u001b[1;32m      5\u001b[0m   \u001b[0;31m# e_m.add(Dense(100,activation='relu'))\u001b[0m\u001b[0;34m\u001b[0m\u001b[0;34m\u001b[0m\u001b[0;34m\u001b[0m\u001b[0m\n\u001b[1;32m      6\u001b[0m   \u001b[0mem\u001b[0m\u001b[0;34m=\u001b[0m\u001b[0mBidirectional\u001b[0m\u001b[0;34m(\u001b[0m\u001b[0mLSTM\u001b[0m\u001b[0;34m(\u001b[0m\u001b[0;36m256\u001b[0m\u001b[0;34m,\u001b[0m\u001b[0minput_shape\u001b[0m\u001b[0;34m=\u001b[0m\u001b[0;34m(\u001b[0m\u001b[0minput_size1\u001b[0m\u001b[0;34m,\u001b[0m\u001b[0minput_size2\u001b[0m\u001b[0;34m)\u001b[0m\u001b[0;34m)\u001b[0m\u001b[0;34m)\u001b[0m\u001b[0;34m\u001b[0m\u001b[0;34m\u001b[0m\u001b[0m\n\u001b[0;32m----> 7\u001b[0;31m   \u001b[0mencoder_outputs\u001b[0m\u001b[0;34m,\u001b[0m \u001b[0mstate_h\u001b[0m\u001b[0;34m,\u001b[0m \u001b[0mstate_c\u001b[0m \u001b[0;34m=\u001b[0m \u001b[0me_m\u001b[0m\u001b[0;34m(\u001b[0m\u001b[0mX\u001b[0m\u001b[0;34m)\u001b[0m\u001b[0;34m\u001b[0m\u001b[0;34m\u001b[0m\u001b[0m\n\u001b[0m\u001b[1;32m      8\u001b[0m   \u001b[0mm\u001b[0m\u001b[0;34m=\u001b[0m\u001b[0mSequential\u001b[0m\u001b[0;34m(\u001b[0m\u001b[0;34m)\u001b[0m\u001b[0;34m(\u001b[0m\u001b[0mencoder_outputs\u001b[0m\u001b[0;34m)\u001b[0m\u001b[0;34m\u001b[0m\u001b[0;34m\u001b[0m\u001b[0m\n\u001b[1;32m      9\u001b[0m   \u001b[0mm\u001b[0m\u001b[0;34m.\u001b[0m\u001b[0madd\u001b[0m\u001b[0;34m(\u001b[0m\u001b[0mDense\u001b[0m\u001b[0;34m(\u001b[0m\u001b[0;36m102\u001b[0m\u001b[0;34m,\u001b[0m\u001b[0mactivation\u001b[0m\u001b[0;34m=\u001b[0m\u001b[0;34m'relu'\u001b[0m\u001b[0;34m)\u001b[0m\u001b[0;34m)\u001b[0m\u001b[0;34m\u001b[0m\u001b[0;34m\u001b[0m\u001b[0m\n",
            "\u001b[0;32m/usr/local/lib/python3.6/dist-packages/keras/backend/tensorflow_backend.py\u001b[0m in \u001b[0;36msymbolic_fn_wrapper\u001b[0;34m(*args, **kwargs)\u001b[0m\n\u001b[1;32m     73\u001b[0m         \u001b[0;32mif\u001b[0m \u001b[0m_SYMBOLIC_SCOPE\u001b[0m\u001b[0;34m.\u001b[0m\u001b[0mvalue\u001b[0m\u001b[0;34m:\u001b[0m\u001b[0;34m\u001b[0m\u001b[0;34m\u001b[0m\u001b[0m\n\u001b[1;32m     74\u001b[0m             \u001b[0;32mwith\u001b[0m \u001b[0mget_graph\u001b[0m\u001b[0;34m(\u001b[0m\u001b[0;34m)\u001b[0m\u001b[0;34m.\u001b[0m\u001b[0mas_default\u001b[0m\u001b[0;34m(\u001b[0m\u001b[0;34m)\u001b[0m\u001b[0;34m:\u001b[0m\u001b[0;34m\u001b[0m\u001b[0;34m\u001b[0m\u001b[0m\n\u001b[0;32m---> 75\u001b[0;31m                 \u001b[0;32mreturn\u001b[0m \u001b[0mfunc\u001b[0m\u001b[0;34m(\u001b[0m\u001b[0;34m*\u001b[0m\u001b[0margs\u001b[0m\u001b[0;34m,\u001b[0m \u001b[0;34m**\u001b[0m\u001b[0mkwargs\u001b[0m\u001b[0;34m)\u001b[0m\u001b[0;34m\u001b[0m\u001b[0;34m\u001b[0m\u001b[0m\n\u001b[0m\u001b[1;32m     76\u001b[0m         \u001b[0;32melse\u001b[0m\u001b[0;34m:\u001b[0m\u001b[0;34m\u001b[0m\u001b[0;34m\u001b[0m\u001b[0m\n\u001b[1;32m     77\u001b[0m             \u001b[0;32mreturn\u001b[0m \u001b[0mfunc\u001b[0m\u001b[0;34m(\u001b[0m\u001b[0;34m*\u001b[0m\u001b[0margs\u001b[0m\u001b[0;34m,\u001b[0m \u001b[0;34m**\u001b[0m\u001b[0mkwargs\u001b[0m\u001b[0;34m)\u001b[0m\u001b[0;34m\u001b[0m\u001b[0;34m\u001b[0m\u001b[0m\n",
            "\u001b[0;32m/usr/local/lib/python3.6/dist-packages/keras/engine/base_layer.py\u001b[0m in \u001b[0;36m__call__\u001b[0;34m(self, inputs, **kwargs)\u001b[0m\n\u001b[1;32m    487\u001b[0m             \u001b[0;31m# Actually call the layer,\u001b[0m\u001b[0;34m\u001b[0m\u001b[0;34m\u001b[0m\u001b[0;34m\u001b[0m\u001b[0m\n\u001b[1;32m    488\u001b[0m             \u001b[0;31m# collecting output(s), mask(s), and shape(s).\u001b[0m\u001b[0;34m\u001b[0m\u001b[0;34m\u001b[0m\u001b[0;34m\u001b[0m\u001b[0m\n\u001b[0;32m--> 489\u001b[0;31m             \u001b[0moutput\u001b[0m \u001b[0;34m=\u001b[0m \u001b[0mself\u001b[0m\u001b[0;34m.\u001b[0m\u001b[0mcall\u001b[0m\u001b[0;34m(\u001b[0m\u001b[0minputs\u001b[0m\u001b[0;34m,\u001b[0m \u001b[0;34m**\u001b[0m\u001b[0mkwargs\u001b[0m\u001b[0;34m)\u001b[0m\u001b[0;34m\u001b[0m\u001b[0;34m\u001b[0m\u001b[0m\n\u001b[0m\u001b[1;32m    490\u001b[0m             \u001b[0moutput_mask\u001b[0m \u001b[0;34m=\u001b[0m \u001b[0mself\u001b[0m\u001b[0;34m.\u001b[0m\u001b[0mcompute_mask\u001b[0m\u001b[0;34m(\u001b[0m\u001b[0minputs\u001b[0m\u001b[0;34m,\u001b[0m \u001b[0mprevious_mask\u001b[0m\u001b[0;34m)\u001b[0m\u001b[0;34m\u001b[0m\u001b[0;34m\u001b[0m\u001b[0m\n\u001b[1;32m    491\u001b[0m \u001b[0;34m\u001b[0m\u001b[0m\n",
            "\u001b[0;32m/usr/local/lib/python3.6/dist-packages/keras/engine/network.py\u001b[0m in \u001b[0;36mcall\u001b[0;34m(self, inputs, mask)\u001b[0m\n\u001b[1;32m    581\u001b[0m             \u001b[0;32mreturn\u001b[0m \u001b[0mself\u001b[0m\u001b[0;34m.\u001b[0m\u001b[0m_output_tensor_cache\u001b[0m\u001b[0;34m[\u001b[0m\u001b[0mcache_key\u001b[0m\u001b[0;34m]\u001b[0m\u001b[0;34m\u001b[0m\u001b[0;34m\u001b[0m\u001b[0m\n\u001b[1;32m    582\u001b[0m         \u001b[0;32melse\u001b[0m\u001b[0;34m:\u001b[0m\u001b[0;34m\u001b[0m\u001b[0;34m\u001b[0m\u001b[0m\n\u001b[0;32m--> 583\u001b[0;31m             \u001b[0moutput_tensors\u001b[0m\u001b[0;34m,\u001b[0m \u001b[0m_\u001b[0m\u001b[0;34m,\u001b[0m \u001b[0m_\u001b[0m \u001b[0;34m=\u001b[0m \u001b[0mself\u001b[0m\u001b[0;34m.\u001b[0m\u001b[0mrun_internal_graph\u001b[0m\u001b[0;34m(\u001b[0m\u001b[0minputs\u001b[0m\u001b[0;34m,\u001b[0m \u001b[0mmasks\u001b[0m\u001b[0;34m)\u001b[0m\u001b[0;34m\u001b[0m\u001b[0;34m\u001b[0m\u001b[0m\n\u001b[0m\u001b[1;32m    584\u001b[0m             \u001b[0;32mreturn\u001b[0m \u001b[0moutput_tensors\u001b[0m\u001b[0;34m\u001b[0m\u001b[0;34m\u001b[0m\u001b[0m\n\u001b[1;32m    585\u001b[0m \u001b[0;34m\u001b[0m\u001b[0m\n",
            "\u001b[0;32m/usr/local/lib/python3.6/dist-packages/keras/engine/network.py\u001b[0m in \u001b[0;36mrun_internal_graph\u001b[0;34m(self, inputs, masks)\u001b[0m\n\u001b[1;32m    738\u001b[0m                                     \u001b[0mkwargs\u001b[0m\u001b[0;34m[\u001b[0m\u001b[0;34m'mask'\u001b[0m\u001b[0;34m]\u001b[0m \u001b[0;34m=\u001b[0m \u001b[0mcomputed_mask\u001b[0m\u001b[0;34m\u001b[0m\u001b[0;34m\u001b[0m\u001b[0m\n\u001b[1;32m    739\u001b[0m                             output_tensors = to_list(\n\u001b[0;32m--> 740\u001b[0;31m                                 layer.call(computed_tensor, **kwargs))\n\u001b[0m\u001b[1;32m    741\u001b[0m                             output_masks = layer.compute_mask(computed_tensor,\n\u001b[1;32m    742\u001b[0m                                                               computed_mask)\n",
            "\u001b[0;32m/usr/local/lib/python3.6/dist-packages/keras/layers/recurrent.py\u001b[0m in \u001b[0;36mcall\u001b[0;34m(self, inputs, mask, training, initial_state)\u001b[0m\n\u001b[1;32m   2245\u001b[0m                                       \u001b[0mmask\u001b[0m\u001b[0;34m=\u001b[0m\u001b[0mmask\u001b[0m\u001b[0;34m,\u001b[0m\u001b[0;34m\u001b[0m\u001b[0;34m\u001b[0m\u001b[0m\n\u001b[1;32m   2246\u001b[0m                                       \u001b[0mtraining\u001b[0m\u001b[0;34m=\u001b[0m\u001b[0mtraining\u001b[0m\u001b[0;34m,\u001b[0m\u001b[0;34m\u001b[0m\u001b[0;34m\u001b[0m\u001b[0m\n\u001b[0;32m-> 2247\u001b[0;31m                                       initial_state=initial_state)\n\u001b[0m\u001b[1;32m   2248\u001b[0m \u001b[0;34m\u001b[0m\u001b[0m\n\u001b[1;32m   2249\u001b[0m     \u001b[0;34m@\u001b[0m\u001b[0mproperty\u001b[0m\u001b[0;34m\u001b[0m\u001b[0;34m\u001b[0m\u001b[0m\n",
            "\u001b[0;32m/usr/local/lib/python3.6/dist-packages/keras/layers/recurrent.py\u001b[0m in \u001b[0;36mcall\u001b[0;34m(self, inputs, mask, training, initial_state, constants)\u001b[0m\n\u001b[1;32m    680\u001b[0m                                              \u001b[0mmask\u001b[0m\u001b[0;34m=\u001b[0m\u001b[0mmask\u001b[0m\u001b[0;34m,\u001b[0m\u001b[0;34m\u001b[0m\u001b[0;34m\u001b[0m\u001b[0m\n\u001b[1;32m    681\u001b[0m                                              \u001b[0munroll\u001b[0m\u001b[0;34m=\u001b[0m\u001b[0mself\u001b[0m\u001b[0;34m.\u001b[0m\u001b[0munroll\u001b[0m\u001b[0;34m,\u001b[0m\u001b[0;34m\u001b[0m\u001b[0;34m\u001b[0m\u001b[0m\n\u001b[0;32m--> 682\u001b[0;31m                                              input_length=timesteps)\n\u001b[0m\u001b[1;32m    683\u001b[0m         \u001b[0;32mif\u001b[0m \u001b[0mself\u001b[0m\u001b[0;34m.\u001b[0m\u001b[0mstateful\u001b[0m\u001b[0;34m:\u001b[0m\u001b[0;34m\u001b[0m\u001b[0;34m\u001b[0m\u001b[0m\n\u001b[1;32m    684\u001b[0m             \u001b[0mupdates\u001b[0m \u001b[0;34m=\u001b[0m \u001b[0;34m[\u001b[0m\u001b[0;34m]\u001b[0m\u001b[0;34m\u001b[0m\u001b[0;34m\u001b[0m\u001b[0m\n",
            "\u001b[0;32m/usr/local/lib/python3.6/dist-packages/keras/backend/tensorflow_backend.py\u001b[0m in \u001b[0;36mrnn\u001b[0;34m(step_function, inputs, initial_states, go_backwards, mask, constants, unroll, input_length)\u001b[0m\n\u001b[1;32m   3101\u001b[0m         \u001b[0mconstants\u001b[0m\u001b[0;34m=\u001b[0m\u001b[0mconstants\u001b[0m\u001b[0;34m,\u001b[0m\u001b[0;34m\u001b[0m\u001b[0;34m\u001b[0m\u001b[0m\n\u001b[1;32m   3102\u001b[0m         \u001b[0munroll\u001b[0m\u001b[0;34m=\u001b[0m\u001b[0munroll\u001b[0m\u001b[0;34m,\u001b[0m\u001b[0;34m\u001b[0m\u001b[0;34m\u001b[0m\u001b[0m\n\u001b[0;32m-> 3103\u001b[0;31m         input_length=input_length)\n\u001b[0m\u001b[1;32m   3104\u001b[0m     reachable = tf_utils.get_reachable_from_inputs([learning_phase()],\n\u001b[1;32m   3105\u001b[0m                                                    targets=[last_output])\n",
            "\u001b[0;32m/usr/local/lib/python3.6/dist-packages/tensorflow/python/keras/backend.py\u001b[0m in \u001b[0;36mrnn\u001b[0;34m(step_function, inputs, initial_states, go_backwards, mask, constants, unroll, input_length, time_major, zero_output_for_mask)\u001b[0m\n\u001b[1;32m   4090\u001b[0m     \u001b[0;31m# the value is discarded.\u001b[0m\u001b[0;34m\u001b[0m\u001b[0;34m\u001b[0m\u001b[0;34m\u001b[0m\u001b[0m\n\u001b[1;32m   4091\u001b[0m     output_time_zero, _ = step_function(\n\u001b[0;32m-> 4092\u001b[0;31m         input_time_zero, tuple(initial_states) + tuple(constants))\n\u001b[0m\u001b[1;32m   4093\u001b[0m     output_ta = tuple(\n\u001b[1;32m   4094\u001b[0m         tensor_array_ops.TensorArray(\n",
            "\u001b[0;32m/usr/local/lib/python3.6/dist-packages/keras/layers/recurrent.py\u001b[0m in \u001b[0;36mstep\u001b[0;34m(inputs, states)\u001b[0m\n\u001b[1;32m    671\u001b[0m         \u001b[0;32melse\u001b[0m\u001b[0;34m:\u001b[0m\u001b[0;34m\u001b[0m\u001b[0;34m\u001b[0m\u001b[0m\n\u001b[1;32m    672\u001b[0m             \u001b[0;32mdef\u001b[0m \u001b[0mstep\u001b[0m\u001b[0;34m(\u001b[0m\u001b[0minputs\u001b[0m\u001b[0;34m,\u001b[0m \u001b[0mstates\u001b[0m\u001b[0;34m)\u001b[0m\u001b[0;34m:\u001b[0m\u001b[0;34m\u001b[0m\u001b[0;34m\u001b[0m\u001b[0m\n\u001b[0;32m--> 673\u001b[0;31m                 \u001b[0;32mreturn\u001b[0m \u001b[0mself\u001b[0m\u001b[0;34m.\u001b[0m\u001b[0mcell\u001b[0m\u001b[0;34m.\u001b[0m\u001b[0mcall\u001b[0m\u001b[0;34m(\u001b[0m\u001b[0minputs\u001b[0m\u001b[0;34m,\u001b[0m \u001b[0mstates\u001b[0m\u001b[0;34m,\u001b[0m \u001b[0;34m**\u001b[0m\u001b[0mkwargs\u001b[0m\u001b[0;34m)\u001b[0m\u001b[0;34m\u001b[0m\u001b[0;34m\u001b[0m\u001b[0m\n\u001b[0m\u001b[1;32m    674\u001b[0m \u001b[0;34m\u001b[0m\u001b[0m\n\u001b[1;32m    675\u001b[0m         last_output, outputs, states = K.rnn(step,\n",
            "\u001b[0;32m/usr/local/lib/python3.6/dist-packages/keras/layers/recurrent.py\u001b[0m in \u001b[0;36mcall\u001b[0;34m(self, inputs, states, training)\u001b[0m\n\u001b[1;32m   2033\u001b[0m             \u001b[0;32mif\u001b[0m \u001b[0;36m0.\u001b[0m \u001b[0;34m<\u001b[0m \u001b[0mself\u001b[0m\u001b[0;34m.\u001b[0m\u001b[0mdropout\u001b[0m \u001b[0;34m<\u001b[0m \u001b[0;36m1.\u001b[0m\u001b[0;34m:\u001b[0m\u001b[0;34m\u001b[0m\u001b[0;34m\u001b[0m\u001b[0m\n\u001b[1;32m   2034\u001b[0m                 \u001b[0minputs\u001b[0m \u001b[0;34m*=\u001b[0m \u001b[0mdp_mask\u001b[0m\u001b[0;34m[\u001b[0m\u001b[0;36m0\u001b[0m\u001b[0;34m]\u001b[0m\u001b[0;34m\u001b[0m\u001b[0;34m\u001b[0m\u001b[0m\n\u001b[0;32m-> 2035\u001b[0;31m             \u001b[0mz\u001b[0m \u001b[0;34m=\u001b[0m \u001b[0mK\u001b[0m\u001b[0;34m.\u001b[0m\u001b[0mdot\u001b[0m\u001b[0;34m(\u001b[0m\u001b[0minputs\u001b[0m\u001b[0;34m,\u001b[0m \u001b[0mself\u001b[0m\u001b[0;34m.\u001b[0m\u001b[0mkernel\u001b[0m\u001b[0;34m)\u001b[0m\u001b[0;34m\u001b[0m\u001b[0;34m\u001b[0m\u001b[0m\n\u001b[0m\u001b[1;32m   2036\u001b[0m             \u001b[0;32mif\u001b[0m \u001b[0;36m0.\u001b[0m \u001b[0;34m<\u001b[0m \u001b[0mself\u001b[0m\u001b[0;34m.\u001b[0m\u001b[0mrecurrent_dropout\u001b[0m \u001b[0;34m<\u001b[0m \u001b[0;36m1.\u001b[0m\u001b[0;34m:\u001b[0m\u001b[0;34m\u001b[0m\u001b[0;34m\u001b[0m\u001b[0m\n\u001b[1;32m   2037\u001b[0m                 \u001b[0mh_tm1\u001b[0m \u001b[0;34m*=\u001b[0m \u001b[0mrec_dp_mask\u001b[0m\u001b[0;34m[\u001b[0m\u001b[0;36m0\u001b[0m\u001b[0;34m]\u001b[0m\u001b[0;34m\u001b[0m\u001b[0;34m\u001b[0m\u001b[0m\n",
            "\u001b[0;32m/usr/local/lib/python3.6/dist-packages/keras/backend/tensorflow_backend.py\u001b[0m in \u001b[0;36mdot\u001b[0;34m(x, y)\u001b[0m\n\u001b[1;32m   1371\u001b[0m         \u001b[0mout\u001b[0m \u001b[0;34m=\u001b[0m \u001b[0mtf\u001b[0m\u001b[0;34m.\u001b[0m\u001b[0msparse\u001b[0m\u001b[0;34m.\u001b[0m\u001b[0msparse_dense_matmul\u001b[0m\u001b[0;34m(\u001b[0m\u001b[0mx\u001b[0m\u001b[0;34m,\u001b[0m \u001b[0my\u001b[0m\u001b[0;34m)\u001b[0m\u001b[0;34m\u001b[0m\u001b[0;34m\u001b[0m\u001b[0m\n\u001b[1;32m   1372\u001b[0m     \u001b[0;32melse\u001b[0m\u001b[0;34m:\u001b[0m\u001b[0;34m\u001b[0m\u001b[0;34m\u001b[0m\u001b[0m\n\u001b[0;32m-> 1373\u001b[0;31m         \u001b[0mout\u001b[0m \u001b[0;34m=\u001b[0m \u001b[0mtf\u001b[0m\u001b[0;34m.\u001b[0m\u001b[0mmatmul\u001b[0m\u001b[0;34m(\u001b[0m\u001b[0mx\u001b[0m\u001b[0;34m,\u001b[0m \u001b[0my\u001b[0m\u001b[0;34m)\u001b[0m\u001b[0;34m\u001b[0m\u001b[0;34m\u001b[0m\u001b[0m\n\u001b[0m\u001b[1;32m   1374\u001b[0m     \u001b[0;32mreturn\u001b[0m \u001b[0mout\u001b[0m\u001b[0;34m\u001b[0m\u001b[0;34m\u001b[0m\u001b[0m\n\u001b[1;32m   1375\u001b[0m \u001b[0;34m\u001b[0m\u001b[0m\n",
            "\u001b[0;32m/usr/local/lib/python3.6/dist-packages/tensorflow/python/util/dispatch.py\u001b[0m in \u001b[0;36mwrapper\u001b[0;34m(*args, **kwargs)\u001b[0m\n\u001b[1;32m    178\u001b[0m     \u001b[0;34m\"\"\"Call target, and fall back on dispatchers if there is a TypeError.\"\"\"\u001b[0m\u001b[0;34m\u001b[0m\u001b[0;34m\u001b[0m\u001b[0m\n\u001b[1;32m    179\u001b[0m     \u001b[0;32mtry\u001b[0m\u001b[0;34m:\u001b[0m\u001b[0;34m\u001b[0m\u001b[0;34m\u001b[0m\u001b[0m\n\u001b[0;32m--> 180\u001b[0;31m       \u001b[0;32mreturn\u001b[0m \u001b[0mtarget\u001b[0m\u001b[0;34m(\u001b[0m\u001b[0;34m*\u001b[0m\u001b[0margs\u001b[0m\u001b[0;34m,\u001b[0m \u001b[0;34m**\u001b[0m\u001b[0mkwargs\u001b[0m\u001b[0;34m)\u001b[0m\u001b[0;34m\u001b[0m\u001b[0;34m\u001b[0m\u001b[0m\n\u001b[0m\u001b[1;32m    181\u001b[0m     \u001b[0;32mexcept\u001b[0m \u001b[0;34m(\u001b[0m\u001b[0mTypeError\u001b[0m\u001b[0;34m,\u001b[0m \u001b[0mValueError\u001b[0m\u001b[0;34m)\u001b[0m\u001b[0;34m:\u001b[0m\u001b[0;34m\u001b[0m\u001b[0;34m\u001b[0m\u001b[0m\n\u001b[1;32m    182\u001b[0m       \u001b[0;31m# Note: convert_to_eager_tensor currently raises a ValueError, not a\u001b[0m\u001b[0;34m\u001b[0m\u001b[0;34m\u001b[0m\u001b[0;34m\u001b[0m\u001b[0m\n",
            "\u001b[0;32m/usr/local/lib/python3.6/dist-packages/tensorflow/python/ops/math_ops.py\u001b[0m in \u001b[0;36mmatmul\u001b[0;34m(a, b, transpose_a, transpose_b, adjoint_a, adjoint_b, a_is_sparse, b_is_sparse, name)\u001b[0m\n\u001b[1;32m   2982\u001b[0m     \u001b[0;32melse\u001b[0m\u001b[0;34m:\u001b[0m\u001b[0;34m\u001b[0m\u001b[0;34m\u001b[0m\u001b[0m\n\u001b[1;32m   2983\u001b[0m       return gen_math_ops.mat_mul(\n\u001b[0;32m-> 2984\u001b[0;31m           a, b, transpose_a=transpose_a, transpose_b=transpose_b, name=name)\n\u001b[0m\u001b[1;32m   2985\u001b[0m \u001b[0;34m\u001b[0m\u001b[0m\n\u001b[1;32m   2986\u001b[0m \u001b[0;34m\u001b[0m\u001b[0m\n",
            "\u001b[0;32m/usr/local/lib/python3.6/dist-packages/tensorflow/python/ops/gen_math_ops.py\u001b[0m in \u001b[0;36mmat_mul\u001b[0;34m(a, b, transpose_a, transpose_b, name)\u001b[0m\n\u001b[1;32m   5585\u001b[0m   _, _, _op, _outputs = _op_def_library._apply_op_helper(\n\u001b[1;32m   5586\u001b[0m         \u001b[0;34m\"MatMul\"\u001b[0m\u001b[0;34m,\u001b[0m \u001b[0ma\u001b[0m\u001b[0;34m=\u001b[0m\u001b[0ma\u001b[0m\u001b[0;34m,\u001b[0m \u001b[0mb\u001b[0m\u001b[0;34m=\u001b[0m\u001b[0mb\u001b[0m\u001b[0;34m,\u001b[0m \u001b[0mtranspose_a\u001b[0m\u001b[0;34m=\u001b[0m\u001b[0mtranspose_a\u001b[0m\u001b[0;34m,\u001b[0m \u001b[0mtranspose_b\u001b[0m\u001b[0;34m=\u001b[0m\u001b[0mtranspose_b\u001b[0m\u001b[0;34m,\u001b[0m\u001b[0;34m\u001b[0m\u001b[0;34m\u001b[0m\u001b[0m\n\u001b[0;32m-> 5587\u001b[0;31m                   name=name)\n\u001b[0m\u001b[1;32m   5588\u001b[0m   \u001b[0m_result\u001b[0m \u001b[0;34m=\u001b[0m \u001b[0m_outputs\u001b[0m\u001b[0;34m[\u001b[0m\u001b[0;34m:\u001b[0m\u001b[0;34m]\u001b[0m\u001b[0;34m\u001b[0m\u001b[0;34m\u001b[0m\u001b[0m\n\u001b[1;32m   5589\u001b[0m   \u001b[0;32mif\u001b[0m \u001b[0m_execute\u001b[0m\u001b[0;34m.\u001b[0m\u001b[0mmust_record_gradient\u001b[0m\u001b[0;34m(\u001b[0m\u001b[0;34m)\u001b[0m\u001b[0;34m:\u001b[0m\u001b[0;34m\u001b[0m\u001b[0;34m\u001b[0m\u001b[0m\n",
            "\u001b[0;32m/usr/local/lib/python3.6/dist-packages/tensorflow/python/framework/op_def_library.py\u001b[0m in \u001b[0;36m_apply_op_helper\u001b[0;34m(op_type_name, name, **keywords)\u001b[0m\n\u001b[1;32m    576\u001b[0m             _SatisfiesTypeConstraint(base_type,\n\u001b[1;32m    577\u001b[0m                                      \u001b[0m_Attr\u001b[0m\u001b[0;34m(\u001b[0m\u001b[0mop_def\u001b[0m\u001b[0;34m,\u001b[0m \u001b[0minput_arg\u001b[0m\u001b[0;34m.\u001b[0m\u001b[0mtype_attr\u001b[0m\u001b[0;34m)\u001b[0m\u001b[0;34m,\u001b[0m\u001b[0;34m\u001b[0m\u001b[0;34m\u001b[0m\u001b[0m\n\u001b[0;32m--> 578\u001b[0;31m                                      param_name=input_name)\n\u001b[0m\u001b[1;32m    579\u001b[0m           \u001b[0mattrs\u001b[0m\u001b[0;34m[\u001b[0m\u001b[0minput_arg\u001b[0m\u001b[0;34m.\u001b[0m\u001b[0mtype_attr\u001b[0m\u001b[0;34m]\u001b[0m \u001b[0;34m=\u001b[0m \u001b[0mattr_value\u001b[0m\u001b[0;34m\u001b[0m\u001b[0;34m\u001b[0m\u001b[0m\n\u001b[1;32m    580\u001b[0m           \u001b[0minferred_from\u001b[0m\u001b[0;34m[\u001b[0m\u001b[0minput_arg\u001b[0m\u001b[0;34m.\u001b[0m\u001b[0mtype_attr\u001b[0m\u001b[0;34m]\u001b[0m \u001b[0;34m=\u001b[0m \u001b[0minput_name\u001b[0m\u001b[0;34m\u001b[0m\u001b[0;34m\u001b[0m\u001b[0m\n",
            "\u001b[0;32m/usr/local/lib/python3.6/dist-packages/tensorflow/python/framework/op_def_library.py\u001b[0m in \u001b[0;36m_SatisfiesTypeConstraint\u001b[0;34m(dtype, attr_def, param_name)\u001b[0m\n\u001b[1;32m     59\u001b[0m           \u001b[0;34m\"allowed values: %s\"\u001b[0m \u001b[0;34m%\u001b[0m\u001b[0;34m\u001b[0m\u001b[0;34m\u001b[0m\u001b[0m\n\u001b[1;32m     60\u001b[0m           (param_name, dtypes.as_dtype(dtype).name,\n\u001b[0;32m---> 61\u001b[0;31m            \", \".join(dtypes.as_dtype(x).name for x in allowed_list)))\n\u001b[0m\u001b[1;32m     62\u001b[0m \u001b[0;34m\u001b[0m\u001b[0m\n\u001b[1;32m     63\u001b[0m \u001b[0;34m\u001b[0m\u001b[0m\n",
            "\u001b[0;31mTypeError\u001b[0m: Value passed to parameter 'a' has DataType string not in list of allowed values: bfloat16, float16, float32, float64, int32, int64, complex64, complex128"
          ]
        }
      ]
    },
    {
      "cell_type": "code",
      "metadata": {
        "id": "tsgOihjNSPMT",
        "colab_type": "code",
        "colab": {}
      },
      "source": [
        "def define_models(n_input, n_output, n_units):\n",
        "\t# define training encoder\n",
        "\tencoder_inputs = Input(shape=(40, 50))\n",
        "\tencoder = LSTM(n_units, return_state=True)\n",
        "\tencoder_outputs, state_h, state_c = encoder(encoder_inputs)\n",
        "\tencoder_states = [state_h, state_c]\n",
        "\t# define training decoder\n",
        "\tdecoder_inputs = Input(shape=(12, n_output))\n",
        "\tdecoder_lstm = LSTM(n_units, return_sequences=True, return_state=True)\n",
        "\tdecoder_outputs, _, _ = decoder_lstm(decoder_inputs, initial_state=encoder_states)\n",
        "\tdecoder_dense = Dense(1, activation='softmax')\n",
        "\tdecoder_outputs = decoder_dense(decoder_outputs)\n",
        "\tmodel = Model([encoder_inputs, decoder_inputs], decoder_outputs)\n",
        "\t# define inference encoder\n",
        "\tencoder_model = Model(encoder_inputs,encoder_states)\n",
        "\t# define inference decoder\n",
        "\tdecoder_state_input_h = Input(shape=(n_units,))\n",
        "\tdecoder_state_input_c = Input(shape=(n_units,))\n",
        "\tdecoder_states_inputs = [decoder_state_input_h, decoder_state_input_c]\n",
        "\tdecoder_outputs, state_h, state_c = decoder_lstm(decoder_inputs, initial_state=decoder_states_inputs)\n",
        "\tdecoder_states = [state_h, state_c]\n",
        "\tdecoder_outputs = decoder_dense(decoder_outputs)\n",
        "\tdecoder_model = Model([decoder_inputs] + decoder_states_inputs, [decoder_outputs] + decoder_states)\n",
        "\t# return all models\n",
        "\treturn model, encoder_model, decoder_model"
      ],
      "execution_count": null,
      "outputs": []
    },
    {
      "cell_type": "code",
      "metadata": {
        "id": "looAJwDfTbfW",
        "colab_type": "code",
        "colab": {}
      },
      "source": [
        "m,e_m,d_m=define_models(40,50,128)"
      ],
      "execution_count": null,
      "outputs": []
    },
    {
      "cell_type": "code",
      "metadata": {
        "id": "xod7s8GYTyS5",
        "colab_type": "code",
        "colab": {
          "base_uri": "https://localhost:8080/",
          "height": 658
        },
        "outputId": "a8672c0b-9807-48d9-ae87-524d255165d7"
      },
      "source": [
        "m.compile('Adam','categorical_crossentropy',['accuracy'])\n",
        "m.fit([inp_encoder_np,out_encoder_np],slot_arr_np)"
      ],
      "execution_count": null,
      "outputs": [
        {
          "output_type": "error",
          "ename": "ValueError",
          "evalue": "ignored",
          "traceback": [
            "\u001b[0;31m---------------------------------------------------------------------------\u001b[0m",
            "\u001b[0;31mValueError\u001b[0m                                Traceback (most recent call last)",
            "\u001b[0;32m<ipython-input-168-94290d62f7a7>\u001b[0m in \u001b[0;36m<module>\u001b[0;34m()\u001b[0m\n\u001b[1;32m      1\u001b[0m \u001b[0mm\u001b[0m\u001b[0;34m.\u001b[0m\u001b[0mcompile\u001b[0m\u001b[0;34m(\u001b[0m\u001b[0;34m'Adam'\u001b[0m\u001b[0;34m,\u001b[0m\u001b[0;34m'categorical_crossentropy'\u001b[0m\u001b[0;34m,\u001b[0m\u001b[0;34m[\u001b[0m\u001b[0;34m'accuracy'\u001b[0m\u001b[0;34m]\u001b[0m\u001b[0;34m)\u001b[0m\u001b[0;34m\u001b[0m\u001b[0;34m\u001b[0m\u001b[0m\n\u001b[1;32m      2\u001b[0m \u001b[0mslot_arr_np\u001b[0m\u001b[0;34m=\u001b[0m\u001b[0mnp\u001b[0m\u001b[0;34m.\u001b[0m\u001b[0marray\u001b[0m\u001b[0;34m(\u001b[0m\u001b[0mslot_arr\u001b[0m\u001b[0;34m)\u001b[0m\u001b[0;34m.\u001b[0m\u001b[0mreshape\u001b[0m\u001b[0;34m(\u001b[0m\u001b[0;36m4201\u001b[0m\u001b[0;34m,\u001b[0m\u001b[0;36m25\u001b[0m\u001b[0;34m,\u001b[0m\u001b[0;36m1\u001b[0m\u001b[0;34m)\u001b[0m\u001b[0;34m\u001b[0m\u001b[0;34m\u001b[0m\u001b[0m\n\u001b[0;32m----> 3\u001b[0;31m \u001b[0mm\u001b[0m\u001b[0;34m.\u001b[0m\u001b[0mfit\u001b[0m\u001b[0;34m(\u001b[0m\u001b[0;34m[\u001b[0m\u001b[0minp_encoder_np\u001b[0m\u001b[0;34m,\u001b[0m\u001b[0mout_encoder_np\u001b[0m\u001b[0;34m]\u001b[0m\u001b[0;34m,\u001b[0m\u001b[0mslot_arr_np\u001b[0m\u001b[0;34m)\u001b[0m\u001b[0;34m\u001b[0m\u001b[0;34m\u001b[0m\u001b[0m\n\u001b[0m",
            "\u001b[0;32m/usr/local/lib/python3.6/dist-packages/keras/engine/training.py\u001b[0m in \u001b[0;36mfit\u001b[0;34m(self, x, y, batch_size, epochs, verbose, callbacks, validation_split, validation_data, shuffle, class_weight, sample_weight, initial_epoch, steps_per_epoch, validation_steps, validation_freq, max_queue_size, workers, use_multiprocessing, **kwargs)\u001b[0m\n\u001b[1;32m   1152\u001b[0m             \u001b[0msample_weight\u001b[0m\u001b[0;34m=\u001b[0m\u001b[0msample_weight\u001b[0m\u001b[0;34m,\u001b[0m\u001b[0;34m\u001b[0m\u001b[0;34m\u001b[0m\u001b[0m\n\u001b[1;32m   1153\u001b[0m             \u001b[0mclass_weight\u001b[0m\u001b[0;34m=\u001b[0m\u001b[0mclass_weight\u001b[0m\u001b[0;34m,\u001b[0m\u001b[0;34m\u001b[0m\u001b[0;34m\u001b[0m\u001b[0m\n\u001b[0;32m-> 1154\u001b[0;31m             batch_size=batch_size)\n\u001b[0m\u001b[1;32m   1155\u001b[0m \u001b[0;34m\u001b[0m\u001b[0m\n\u001b[1;32m   1156\u001b[0m         \u001b[0;31m# Prepare validation data.\u001b[0m\u001b[0;34m\u001b[0m\u001b[0;34m\u001b[0m\u001b[0;34m\u001b[0m\u001b[0m\n",
            "\u001b[0;32m/usr/local/lib/python3.6/dist-packages/keras/engine/training.py\u001b[0m in \u001b[0;36m_standardize_user_data\u001b[0;34m(self, x, y, sample_weight, class_weight, check_array_lengths, batch_size)\u001b[0m\n\u001b[1;32m    619\u001b[0m                 \u001b[0mfeed_output_shapes\u001b[0m\u001b[0;34m,\u001b[0m\u001b[0;34m\u001b[0m\u001b[0;34m\u001b[0m\u001b[0m\n\u001b[1;32m    620\u001b[0m                 \u001b[0mcheck_batch_axis\u001b[0m\u001b[0;34m=\u001b[0m\u001b[0;32mFalse\u001b[0m\u001b[0;34m,\u001b[0m  \u001b[0;31m# Don't enforce the batch size.\u001b[0m\u001b[0;34m\u001b[0m\u001b[0;34m\u001b[0m\u001b[0m\n\u001b[0;32m--> 621\u001b[0;31m                 exception_prefix='target')\n\u001b[0m\u001b[1;32m    622\u001b[0m \u001b[0;34m\u001b[0m\u001b[0m\n\u001b[1;32m    623\u001b[0m             \u001b[0;31m# Generate sample-wise weight values given the `sample_weight` and\u001b[0m\u001b[0;34m\u001b[0m\u001b[0;34m\u001b[0m\u001b[0;34m\u001b[0m\u001b[0m\n",
            "\u001b[0;32m/usr/local/lib/python3.6/dist-packages/keras/engine/training_utils.py\u001b[0m in \u001b[0;36mstandardize_input_data\u001b[0;34m(data, names, shapes, check_batch_axis, exception_prefix)\u001b[0m\n\u001b[1;32m    143\u001b[0m                             \u001b[0;34m': expected '\u001b[0m \u001b[0;34m+\u001b[0m \u001b[0mnames\u001b[0m\u001b[0;34m[\u001b[0m\u001b[0mi\u001b[0m\u001b[0;34m]\u001b[0m \u001b[0;34m+\u001b[0m \u001b[0;34m' to have shape '\u001b[0m \u001b[0;34m+\u001b[0m\u001b[0;34m\u001b[0m\u001b[0;34m\u001b[0m\u001b[0m\n\u001b[1;32m    144\u001b[0m                             \u001b[0mstr\u001b[0m\u001b[0;34m(\u001b[0m\u001b[0mshape\u001b[0m\u001b[0;34m)\u001b[0m \u001b[0;34m+\u001b[0m \u001b[0;34m' but got array with shape '\u001b[0m \u001b[0;34m+\u001b[0m\u001b[0;34m\u001b[0m\u001b[0;34m\u001b[0m\u001b[0m\n\u001b[0;32m--> 145\u001b[0;31m                             str(data_shape))\n\u001b[0m\u001b[1;32m    146\u001b[0m     \u001b[0;32mreturn\u001b[0m \u001b[0mdata\u001b[0m\u001b[0;34m\u001b[0m\u001b[0;34m\u001b[0m\u001b[0m\n\u001b[1;32m    147\u001b[0m \u001b[0;34m\u001b[0m\u001b[0m\n",
            "\u001b[0;31mValueError\u001b[0m: Error when checking target: expected dense_38 to have shape (12, 1) but got array with shape (25, 1)"
          ]
        }
      ]
    },
    {
      "cell_type": "code",
      "metadata": {
        "id": "hkvtLFnAmfM9",
        "colab_type": "code",
        "colab": {}
      },
      "source": [
        "from keras.models import Model\n",
        "from keras.layers import Input, LSTM, Dense, Bidirectional\n",
        "\n",
        "# Define an input sequence and process it.\n",
        "encoder_inputs = Input(shape=(None, 50))\n",
        "encoder = LSTM(50, return_state=True)  \n",
        "encoder_outputs, state_h, state_c = encoder(encoder_inputs)\n",
        "# We discard `encoder_outputs` and only keep the states.\n",
        "encoder_states = [state_h, state_c]\n",
        "enc_dense=Dense(50,activation='relu') \n",
        "enc_out=enc_dense(encoder_outputs)\n",
        "encoder_model = Model(encoder_inputs,encoder_outputs) \n",
        "# Set up the decoder, using `encoder_states` as initial state.\n",
        "decoder_inputs = Input(shape=(None, 50))\n",
        "# We set up our decoder to return full output sequences,\n",
        "# and to return internal states as well. We don't use the \n",
        "# return states in the training model, but we will use them in inference.\n",
        "decoder_lstm = LSTM(50, return_sequences=True, return_state=True)\n",
        "decoder_outputs, _, _ = decoder_lstm(decoder_inputs,\n",
        "                                     initial_state=[enc_out,enc_out])\n",
        "decoder_dense = Dense(25, activation='softmax')\n",
        "decoder_outputs = decoder_dense(decoder_outputs)\n",
        "# Define the model that will turn\n",
        "# `encoder_input_data` & `decoder_input_data` into `decoder_target_data`\n",
        "model = Model([encoder_inputs, decoder_inputs], decoder_outputs)"
      ],
      "execution_count": null,
      "outputs": []
    },
    {
      "cell_type": "code",
      "metadata": {
        "id": "uA_W-fz_nFY0",
        "colab_type": "code",
        "colab": {
          "base_uri": "https://localhost:8080/",
          "height": 121
        },
        "outputId": "f1fa3f57-89fc-4d5c-f800-7eadf1b872c6"
      },
      "source": [
        "slot_arr_np=np.array(slot_arr).reshape(4201,1,25)\n",
        "model.compile(optimizer='rmsprop', loss='categorical_crossentropy',metrics=['accuracy'])\n",
        "model.fit([inp_encoder_np, out_encoder_np], slot_arr_np,\n",
        "          epochs=2,\n",
        "          validation_split=0.2)"
      ],
      "execution_count": null,
      "outputs": [
        {
          "output_type": "stream",
          "text": [
            "Train on 3360 samples, validate on 841 samples\n",
            "Epoch 1/2\n",
            "3360/3360 [==============================] - 10s 3ms/step - loss: 1.7696 - accuracy: 0.7291 - val_loss: 1.3808 - val_accuracy: 0.7353\n",
            "Epoch 2/2\n",
            "3360/3360 [==============================] - 9s 3ms/step - loss: 1.2027 - accuracy: 0.7697 - val_loss: 1.1594 - val_accuracy: 0.7968\n"
          ],
          "name": "stdout"
        },
        {
          "output_type": "execute_result",
          "data": {
            "text/plain": [
              "<keras.callbacks.callbacks.History at 0x7fe8bba30d68>"
            ]
          },
          "metadata": {
            "tags": []
          },
          "execution_count": 218
        }
      ]
    },
    {
      "cell_type": "code",
      "metadata": {
        "id": "hMYRVGDaEk6P",
        "colab_type": "code",
        "colab": {
          "base_uri": "https://localhost:8080/",
          "height": 398
        },
        "outputId": "c6152acd-dda6-44e0-8220-a4864b38c9ae"
      },
      "source": [
        "from keras import Model\n",
        "import tensorflow as tf\n",
        "t=Tokenizer()\n",
        "t.fit_on_texts(corpusf)\n",
        "text_matrix=t.texts_to_sequences(corpus\n",
        "inp_tensor=tf.convert_to_tensor(inp_encoder_np)\n",
        "x1=LSTM(100,dropout=0.3,recurrent_dropout=0.2)(inp_tensor)\n",
        "outputs1=Dense(1,activation='sigmoid')(x1)\n",
        "model1=Model(inputs1,outputs1) \n",
        "model1.summary()"
      ],
      "execution_count": null,
      "outputs": [
        {
          "output_type": "error",
          "ename": "TypeError",
          "evalue": "ignored",
          "traceback": [
            "\u001b[0;31m---------------------------------------------------------------------------\u001b[0m",
            "\u001b[0;31mTypeError\u001b[0m                                 Traceback (most recent call last)",
            "\u001b[0;32m<ipython-input-136-053e9ef229e3>\u001b[0m in \u001b[0;36m<module>\u001b[0;34m()\u001b[0m\n\u001b[1;32m      2\u001b[0m \u001b[0;32mimport\u001b[0m \u001b[0mtensorflow\u001b[0m \u001b[0;32mas\u001b[0m \u001b[0mtf\u001b[0m\u001b[0;34m\u001b[0m\u001b[0;34m\u001b[0m\u001b[0m\n\u001b[1;32m      3\u001b[0m \u001b[0minp_tensor\u001b[0m\u001b[0;34m=\u001b[0m\u001b[0mtf\u001b[0m\u001b[0;34m.\u001b[0m\u001b[0mconvert_to_tensor\u001b[0m\u001b[0;34m(\u001b[0m\u001b[0minp_encoder_np\u001b[0m\u001b[0;34m)\u001b[0m\u001b[0;34m\u001b[0m\u001b[0;34m\u001b[0m\u001b[0m\n\u001b[0;32m----> 4\u001b[0;31m \u001b[0mx1\u001b[0m\u001b[0;34m=\u001b[0m\u001b[0mLSTM\u001b[0m\u001b[0;34m(\u001b[0m\u001b[0;36m100\u001b[0m\u001b[0;34m,\u001b[0m\u001b[0mdropout\u001b[0m\u001b[0;34m=\u001b[0m\u001b[0;36m0.3\u001b[0m\u001b[0;34m,\u001b[0m\u001b[0mrecurrent_dropout\u001b[0m\u001b[0;34m=\u001b[0m\u001b[0;36m0.2\u001b[0m\u001b[0;34m)\u001b[0m\u001b[0;34m(\u001b[0m\u001b[0minp_tensor\u001b[0m\u001b[0;34m)\u001b[0m\u001b[0;34m\u001b[0m\u001b[0;34m\u001b[0m\u001b[0m\n\u001b[0m\u001b[1;32m      5\u001b[0m \u001b[0moutputs1\u001b[0m\u001b[0;34m=\u001b[0m\u001b[0mDense\u001b[0m\u001b[0;34m(\u001b[0m\u001b[0;36m1\u001b[0m\u001b[0;34m,\u001b[0m\u001b[0mactivation\u001b[0m\u001b[0;34m=\u001b[0m\u001b[0;34m'sigmoid'\u001b[0m\u001b[0;34m)\u001b[0m\u001b[0;34m(\u001b[0m\u001b[0mx1\u001b[0m\u001b[0;34m)\u001b[0m\u001b[0;34m\u001b[0m\u001b[0;34m\u001b[0m\u001b[0m\n\u001b[1;32m      6\u001b[0m \u001b[0mmodel1\u001b[0m\u001b[0;34m=\u001b[0m\u001b[0mModel\u001b[0m\u001b[0;34m(\u001b[0m\u001b[0minputs1\u001b[0m\u001b[0;34m,\u001b[0m\u001b[0moutputs1\u001b[0m\u001b[0;34m)\u001b[0m\u001b[0;34m\u001b[0m\u001b[0;34m\u001b[0m\u001b[0m\n",
            "\u001b[0;32m/usr/local/lib/python3.6/dist-packages/keras/layers/recurrent.py\u001b[0m in \u001b[0;36m__call__\u001b[0;34m(self, inputs, initial_state, constants, **kwargs)\u001b[0m\n\u001b[1;32m    539\u001b[0m \u001b[0;34m\u001b[0m\u001b[0m\n\u001b[1;32m    540\u001b[0m         \u001b[0;32mif\u001b[0m \u001b[0minitial_state\u001b[0m \u001b[0;32mis\u001b[0m \u001b[0;32mNone\u001b[0m \u001b[0;32mand\u001b[0m \u001b[0mconstants\u001b[0m \u001b[0;32mis\u001b[0m \u001b[0;32mNone\u001b[0m\u001b[0;34m:\u001b[0m\u001b[0;34m\u001b[0m\u001b[0;34m\u001b[0m\u001b[0m\n\u001b[0;32m--> 541\u001b[0;31m             \u001b[0;32mreturn\u001b[0m \u001b[0msuper\u001b[0m\u001b[0;34m(\u001b[0m\u001b[0mRNN\u001b[0m\u001b[0;34m,\u001b[0m \u001b[0mself\u001b[0m\u001b[0;34m)\u001b[0m\u001b[0;34m.\u001b[0m\u001b[0m__call__\u001b[0m\u001b[0;34m(\u001b[0m\u001b[0minputs\u001b[0m\u001b[0;34m,\u001b[0m \u001b[0;34m**\u001b[0m\u001b[0mkwargs\u001b[0m\u001b[0;34m)\u001b[0m\u001b[0;34m\u001b[0m\u001b[0;34m\u001b[0m\u001b[0m\n\u001b[0m\u001b[1;32m    542\u001b[0m \u001b[0;34m\u001b[0m\u001b[0m\n\u001b[1;32m    543\u001b[0m         \u001b[0;31m# If any of `initial_state` or `constants` are specified and are Keras\u001b[0m\u001b[0;34m\u001b[0m\u001b[0;34m\u001b[0m\u001b[0;34m\u001b[0m\u001b[0m\n",
            "\u001b[0;32m/usr/local/lib/python3.6/dist-packages/keras/backend/tensorflow_backend.py\u001b[0m in \u001b[0;36msymbolic_fn_wrapper\u001b[0;34m(*args, **kwargs)\u001b[0m\n\u001b[1;32m     73\u001b[0m         \u001b[0;32mif\u001b[0m \u001b[0m_SYMBOLIC_SCOPE\u001b[0m\u001b[0;34m.\u001b[0m\u001b[0mvalue\u001b[0m\u001b[0;34m:\u001b[0m\u001b[0;34m\u001b[0m\u001b[0;34m\u001b[0m\u001b[0m\n\u001b[1;32m     74\u001b[0m             \u001b[0;32mwith\u001b[0m \u001b[0mget_graph\u001b[0m\u001b[0;34m(\u001b[0m\u001b[0;34m)\u001b[0m\u001b[0;34m.\u001b[0m\u001b[0mas_default\u001b[0m\u001b[0;34m(\u001b[0m\u001b[0;34m)\u001b[0m\u001b[0;34m:\u001b[0m\u001b[0;34m\u001b[0m\u001b[0;34m\u001b[0m\u001b[0m\n\u001b[0;32m---> 75\u001b[0;31m                 \u001b[0;32mreturn\u001b[0m \u001b[0mfunc\u001b[0m\u001b[0;34m(\u001b[0m\u001b[0;34m*\u001b[0m\u001b[0margs\u001b[0m\u001b[0;34m,\u001b[0m \u001b[0;34m**\u001b[0m\u001b[0mkwargs\u001b[0m\u001b[0;34m)\u001b[0m\u001b[0;34m\u001b[0m\u001b[0;34m\u001b[0m\u001b[0m\n\u001b[0m\u001b[1;32m     76\u001b[0m         \u001b[0;32melse\u001b[0m\u001b[0;34m:\u001b[0m\u001b[0;34m\u001b[0m\u001b[0;34m\u001b[0m\u001b[0m\n\u001b[1;32m     77\u001b[0m             \u001b[0;32mreturn\u001b[0m \u001b[0mfunc\u001b[0m\u001b[0;34m(\u001b[0m\u001b[0;34m*\u001b[0m\u001b[0margs\u001b[0m\u001b[0;34m,\u001b[0m \u001b[0;34m**\u001b[0m\u001b[0mkwargs\u001b[0m\u001b[0;34m)\u001b[0m\u001b[0;34m\u001b[0m\u001b[0;34m\u001b[0m\u001b[0m\n",
            "\u001b[0;32m/usr/local/lib/python3.6/dist-packages/keras/engine/base_layer.py\u001b[0m in \u001b[0;36m__call__\u001b[0;34m(self, inputs, **kwargs)\u001b[0m\n\u001b[1;32m    487\u001b[0m             \u001b[0;31m# Actually call the layer,\u001b[0m\u001b[0;34m\u001b[0m\u001b[0;34m\u001b[0m\u001b[0;34m\u001b[0m\u001b[0m\n\u001b[1;32m    488\u001b[0m             \u001b[0;31m# collecting output(s), mask(s), and shape(s).\u001b[0m\u001b[0;34m\u001b[0m\u001b[0;34m\u001b[0m\u001b[0;34m\u001b[0m\u001b[0m\n\u001b[0;32m--> 489\u001b[0;31m             \u001b[0moutput\u001b[0m \u001b[0;34m=\u001b[0m \u001b[0mself\u001b[0m\u001b[0;34m.\u001b[0m\u001b[0mcall\u001b[0m\u001b[0;34m(\u001b[0m\u001b[0minputs\u001b[0m\u001b[0;34m,\u001b[0m \u001b[0;34m**\u001b[0m\u001b[0mkwargs\u001b[0m\u001b[0;34m)\u001b[0m\u001b[0;34m\u001b[0m\u001b[0;34m\u001b[0m\u001b[0m\n\u001b[0m\u001b[1;32m    490\u001b[0m             \u001b[0moutput_mask\u001b[0m \u001b[0;34m=\u001b[0m \u001b[0mself\u001b[0m\u001b[0;34m.\u001b[0m\u001b[0mcompute_mask\u001b[0m\u001b[0;34m(\u001b[0m\u001b[0minputs\u001b[0m\u001b[0;34m,\u001b[0m \u001b[0mprevious_mask\u001b[0m\u001b[0;34m)\u001b[0m\u001b[0;34m\u001b[0m\u001b[0;34m\u001b[0m\u001b[0m\n\u001b[1;32m    491\u001b[0m \u001b[0;34m\u001b[0m\u001b[0m\n",
            "\u001b[0;32m/usr/local/lib/python3.6/dist-packages/keras/layers/recurrent.py\u001b[0m in \u001b[0;36mcall\u001b[0;34m(self, inputs, mask, training, initial_state)\u001b[0m\n\u001b[1;32m   2245\u001b[0m                                       \u001b[0mmask\u001b[0m\u001b[0;34m=\u001b[0m\u001b[0mmask\u001b[0m\u001b[0;34m,\u001b[0m\u001b[0;34m\u001b[0m\u001b[0;34m\u001b[0m\u001b[0m\n\u001b[1;32m   2246\u001b[0m                                       \u001b[0mtraining\u001b[0m\u001b[0;34m=\u001b[0m\u001b[0mtraining\u001b[0m\u001b[0;34m,\u001b[0m\u001b[0;34m\u001b[0m\u001b[0;34m\u001b[0m\u001b[0m\n\u001b[0;32m-> 2247\u001b[0;31m                                       initial_state=initial_state)\n\u001b[0m\u001b[1;32m   2248\u001b[0m \u001b[0;34m\u001b[0m\u001b[0m\n\u001b[1;32m   2249\u001b[0m     \u001b[0;34m@\u001b[0m\u001b[0mproperty\u001b[0m\u001b[0;34m\u001b[0m\u001b[0;34m\u001b[0m\u001b[0m\n",
            "\u001b[0;32m/usr/local/lib/python3.6/dist-packages/keras/layers/recurrent.py\u001b[0m in \u001b[0;36mcall\u001b[0;34m(self, inputs, mask, training, initial_state, constants)\u001b[0m\n\u001b[1;32m    680\u001b[0m                                              \u001b[0mmask\u001b[0m\u001b[0;34m=\u001b[0m\u001b[0mmask\u001b[0m\u001b[0;34m,\u001b[0m\u001b[0;34m\u001b[0m\u001b[0;34m\u001b[0m\u001b[0m\n\u001b[1;32m    681\u001b[0m                                              \u001b[0munroll\u001b[0m\u001b[0;34m=\u001b[0m\u001b[0mself\u001b[0m\u001b[0;34m.\u001b[0m\u001b[0munroll\u001b[0m\u001b[0;34m,\u001b[0m\u001b[0;34m\u001b[0m\u001b[0;34m\u001b[0m\u001b[0m\n\u001b[0;32m--> 682\u001b[0;31m                                              input_length=timesteps)\n\u001b[0m\u001b[1;32m    683\u001b[0m         \u001b[0;32mif\u001b[0m \u001b[0mself\u001b[0m\u001b[0;34m.\u001b[0m\u001b[0mstateful\u001b[0m\u001b[0;34m:\u001b[0m\u001b[0;34m\u001b[0m\u001b[0;34m\u001b[0m\u001b[0m\n\u001b[1;32m    684\u001b[0m             \u001b[0mupdates\u001b[0m \u001b[0;34m=\u001b[0m \u001b[0;34m[\u001b[0m\u001b[0;34m]\u001b[0m\u001b[0;34m\u001b[0m\u001b[0;34m\u001b[0m\u001b[0m\n",
            "\u001b[0;32m/usr/local/lib/python3.6/dist-packages/keras/backend/tensorflow_backend.py\u001b[0m in \u001b[0;36mrnn\u001b[0;34m(step_function, inputs, initial_states, go_backwards, mask, constants, unroll, input_length)\u001b[0m\n\u001b[1;32m   3101\u001b[0m         \u001b[0mconstants\u001b[0m\u001b[0;34m=\u001b[0m\u001b[0mconstants\u001b[0m\u001b[0;34m,\u001b[0m\u001b[0;34m\u001b[0m\u001b[0;34m\u001b[0m\u001b[0m\n\u001b[1;32m   3102\u001b[0m         \u001b[0munroll\u001b[0m\u001b[0;34m=\u001b[0m\u001b[0munroll\u001b[0m\u001b[0;34m,\u001b[0m\u001b[0;34m\u001b[0m\u001b[0;34m\u001b[0m\u001b[0m\n\u001b[0;32m-> 3103\u001b[0;31m         input_length=input_length)\n\u001b[0m\u001b[1;32m   3104\u001b[0m     reachable = tf_utils.get_reachable_from_inputs([learning_phase()],\n\u001b[1;32m   3105\u001b[0m                                                    targets=[last_output])\n",
            "\u001b[0;32m/usr/local/lib/python3.6/dist-packages/tensorflow/python/keras/backend.py\u001b[0m in \u001b[0;36mrnn\u001b[0;34m(step_function, inputs, initial_states, go_backwards, mask, constants, unroll, input_length, time_major, zero_output_for_mask)\u001b[0m\n\u001b[1;32m   4090\u001b[0m     \u001b[0;31m# the value is discarded.\u001b[0m\u001b[0;34m\u001b[0m\u001b[0;34m\u001b[0m\u001b[0;34m\u001b[0m\u001b[0m\n\u001b[1;32m   4091\u001b[0m     output_time_zero, _ = step_function(\n\u001b[0;32m-> 4092\u001b[0;31m         input_time_zero, tuple(initial_states) + tuple(constants))\n\u001b[0m\u001b[1;32m   4093\u001b[0m     output_ta = tuple(\n\u001b[1;32m   4094\u001b[0m         tensor_array_ops.TensorArray(\n",
            "\u001b[0;32m/usr/local/lib/python3.6/dist-packages/keras/layers/recurrent.py\u001b[0m in \u001b[0;36mstep\u001b[0;34m(inputs, states)\u001b[0m\n\u001b[1;32m    671\u001b[0m         \u001b[0;32melse\u001b[0m\u001b[0;34m:\u001b[0m\u001b[0;34m\u001b[0m\u001b[0;34m\u001b[0m\u001b[0m\n\u001b[1;32m    672\u001b[0m             \u001b[0;32mdef\u001b[0m \u001b[0mstep\u001b[0m\u001b[0;34m(\u001b[0m\u001b[0minputs\u001b[0m\u001b[0;34m,\u001b[0m \u001b[0mstates\u001b[0m\u001b[0;34m)\u001b[0m\u001b[0;34m:\u001b[0m\u001b[0;34m\u001b[0m\u001b[0;34m\u001b[0m\u001b[0m\n\u001b[0;32m--> 673\u001b[0;31m                 \u001b[0;32mreturn\u001b[0m \u001b[0mself\u001b[0m\u001b[0;34m.\u001b[0m\u001b[0mcell\u001b[0m\u001b[0;34m.\u001b[0m\u001b[0mcall\u001b[0m\u001b[0;34m(\u001b[0m\u001b[0minputs\u001b[0m\u001b[0;34m,\u001b[0m \u001b[0mstates\u001b[0m\u001b[0;34m,\u001b[0m \u001b[0;34m**\u001b[0m\u001b[0mkwargs\u001b[0m\u001b[0;34m)\u001b[0m\u001b[0;34m\u001b[0m\u001b[0;34m\u001b[0m\u001b[0m\n\u001b[0m\u001b[1;32m    674\u001b[0m \u001b[0;34m\u001b[0m\u001b[0m\n\u001b[1;32m    675\u001b[0m         last_output, outputs, states = K.rnn(step,\n",
            "\u001b[0;32m/usr/local/lib/python3.6/dist-packages/keras/layers/recurrent.py\u001b[0m in \u001b[0;36mcall\u001b[0;34m(self, inputs, states, training)\u001b[0m\n\u001b[1;32m   2032\u001b[0m         \u001b[0;32melse\u001b[0m\u001b[0;34m:\u001b[0m\u001b[0;34m\u001b[0m\u001b[0;34m\u001b[0m\u001b[0m\n\u001b[1;32m   2033\u001b[0m             \u001b[0;32mif\u001b[0m \u001b[0;36m0.\u001b[0m \u001b[0;34m<\u001b[0m \u001b[0mself\u001b[0m\u001b[0;34m.\u001b[0m\u001b[0mdropout\u001b[0m \u001b[0;34m<\u001b[0m \u001b[0;36m1.\u001b[0m\u001b[0;34m:\u001b[0m\u001b[0;34m\u001b[0m\u001b[0;34m\u001b[0m\u001b[0m\n\u001b[0;32m-> 2034\u001b[0;31m                 \u001b[0minputs\u001b[0m \u001b[0;34m*=\u001b[0m \u001b[0mdp_mask\u001b[0m\u001b[0;34m[\u001b[0m\u001b[0;36m0\u001b[0m\u001b[0;34m]\u001b[0m\u001b[0;34m\u001b[0m\u001b[0;34m\u001b[0m\u001b[0m\n\u001b[0m\u001b[1;32m   2035\u001b[0m             \u001b[0mz\u001b[0m \u001b[0;34m=\u001b[0m \u001b[0mK\u001b[0m\u001b[0;34m.\u001b[0m\u001b[0mdot\u001b[0m\u001b[0;34m(\u001b[0m\u001b[0minputs\u001b[0m\u001b[0;34m,\u001b[0m \u001b[0mself\u001b[0m\u001b[0;34m.\u001b[0m\u001b[0mkernel\u001b[0m\u001b[0;34m)\u001b[0m\u001b[0;34m\u001b[0m\u001b[0;34m\u001b[0m\u001b[0m\n\u001b[1;32m   2036\u001b[0m             \u001b[0;32mif\u001b[0m \u001b[0;36m0.\u001b[0m \u001b[0;34m<\u001b[0m \u001b[0mself\u001b[0m\u001b[0;34m.\u001b[0m\u001b[0mrecurrent_dropout\u001b[0m \u001b[0;34m<\u001b[0m \u001b[0;36m1.\u001b[0m\u001b[0;34m:\u001b[0m\u001b[0;34m\u001b[0m\u001b[0;34m\u001b[0m\u001b[0m\n",
            "\u001b[0;32m/usr/local/lib/python3.6/dist-packages/tensorflow/python/ops/math_ops.py\u001b[0m in \u001b[0;36mbinary_op_wrapper\u001b[0;34m(x, y)\u001b[0m\n\u001b[1;32m    982\u001b[0m     \u001b[0;32mwith\u001b[0m \u001b[0mops\u001b[0m\u001b[0;34m.\u001b[0m\u001b[0mname_scope\u001b[0m\u001b[0;34m(\u001b[0m\u001b[0;32mNone\u001b[0m\u001b[0;34m,\u001b[0m \u001b[0mop_name\u001b[0m\u001b[0;34m,\u001b[0m \u001b[0;34m[\u001b[0m\u001b[0mx\u001b[0m\u001b[0;34m,\u001b[0m \u001b[0my\u001b[0m\u001b[0;34m]\u001b[0m\u001b[0;34m)\u001b[0m \u001b[0;32mas\u001b[0m \u001b[0mname\u001b[0m\u001b[0;34m:\u001b[0m\u001b[0;34m\u001b[0m\u001b[0;34m\u001b[0m\u001b[0m\n\u001b[1;32m    983\u001b[0m       \u001b[0;32mif\u001b[0m \u001b[0misinstance\u001b[0m\u001b[0;34m(\u001b[0m\u001b[0mx\u001b[0m\u001b[0;34m,\u001b[0m \u001b[0mops\u001b[0m\u001b[0;34m.\u001b[0m\u001b[0mTensor\u001b[0m\u001b[0;34m)\u001b[0m \u001b[0;32mand\u001b[0m \u001b[0misinstance\u001b[0m\u001b[0;34m(\u001b[0m\u001b[0my\u001b[0m\u001b[0;34m,\u001b[0m \u001b[0mops\u001b[0m\u001b[0;34m.\u001b[0m\u001b[0mTensor\u001b[0m\u001b[0;34m)\u001b[0m\u001b[0;34m:\u001b[0m\u001b[0;34m\u001b[0m\u001b[0;34m\u001b[0m\u001b[0m\n\u001b[0;32m--> 984\u001b[0;31m         \u001b[0;32mreturn\u001b[0m \u001b[0mfunc\u001b[0m\u001b[0;34m(\u001b[0m\u001b[0mx\u001b[0m\u001b[0;34m,\u001b[0m \u001b[0my\u001b[0m\u001b[0;34m,\u001b[0m \u001b[0mname\u001b[0m\u001b[0;34m=\u001b[0m\u001b[0mname\u001b[0m\u001b[0;34m)\u001b[0m\u001b[0;34m\u001b[0m\u001b[0;34m\u001b[0m\u001b[0m\n\u001b[0m\u001b[1;32m    985\u001b[0m       \u001b[0;32melif\u001b[0m \u001b[0;32mnot\u001b[0m \u001b[0misinstance\u001b[0m\u001b[0;34m(\u001b[0m\u001b[0my\u001b[0m\u001b[0;34m,\u001b[0m \u001b[0msparse_tensor\u001b[0m\u001b[0;34m.\u001b[0m\u001b[0mSparseTensor\u001b[0m\u001b[0;34m)\u001b[0m\u001b[0;34m:\u001b[0m\u001b[0;34m\u001b[0m\u001b[0;34m\u001b[0m\u001b[0m\n\u001b[1;32m    986\u001b[0m         \u001b[0;32mtry\u001b[0m\u001b[0;34m:\u001b[0m\u001b[0;34m\u001b[0m\u001b[0;34m\u001b[0m\u001b[0m\n",
            "\u001b[0;32m/usr/local/lib/python3.6/dist-packages/tensorflow/python/ops/math_ops.py\u001b[0m in \u001b[0;36m_mul_dispatch\u001b[0;34m(x, y, name)\u001b[0m\n\u001b[1;32m   1281\u001b[0m   \u001b[0mis_tensor_y\u001b[0m \u001b[0;34m=\u001b[0m \u001b[0misinstance\u001b[0m\u001b[0;34m(\u001b[0m\u001b[0my\u001b[0m\u001b[0;34m,\u001b[0m \u001b[0mops\u001b[0m\u001b[0;34m.\u001b[0m\u001b[0mTensor\u001b[0m\u001b[0;34m)\u001b[0m\u001b[0;34m\u001b[0m\u001b[0;34m\u001b[0m\u001b[0m\n\u001b[1;32m   1282\u001b[0m   \u001b[0;32mif\u001b[0m \u001b[0mis_tensor_y\u001b[0m\u001b[0;34m:\u001b[0m\u001b[0;34m\u001b[0m\u001b[0;34m\u001b[0m\u001b[0m\n\u001b[0;32m-> 1283\u001b[0;31m     \u001b[0;32mreturn\u001b[0m \u001b[0mgen_math_ops\u001b[0m\u001b[0;34m.\u001b[0m\u001b[0mmul\u001b[0m\u001b[0;34m(\u001b[0m\u001b[0mx\u001b[0m\u001b[0;34m,\u001b[0m \u001b[0my\u001b[0m\u001b[0;34m,\u001b[0m \u001b[0mname\u001b[0m\u001b[0;34m=\u001b[0m\u001b[0mname\u001b[0m\u001b[0;34m)\u001b[0m\u001b[0;34m\u001b[0m\u001b[0;34m\u001b[0m\u001b[0m\n\u001b[0m\u001b[1;32m   1284\u001b[0m   \u001b[0;32melse\u001b[0m\u001b[0;34m:\u001b[0m\u001b[0;34m\u001b[0m\u001b[0;34m\u001b[0m\u001b[0m\n\u001b[1;32m   1285\u001b[0m     \u001b[0;32massert\u001b[0m \u001b[0misinstance\u001b[0m\u001b[0;34m(\u001b[0m\u001b[0my\u001b[0m\u001b[0;34m,\u001b[0m \u001b[0msparse_tensor\u001b[0m\u001b[0;34m.\u001b[0m\u001b[0mSparseTensor\u001b[0m\u001b[0;34m)\u001b[0m  \u001b[0;31m# Case: Dense * Sparse.\u001b[0m\u001b[0;34m\u001b[0m\u001b[0;34m\u001b[0m\u001b[0m\n",
            "\u001b[0;32m/usr/local/lib/python3.6/dist-packages/tensorflow/python/ops/gen_math_ops.py\u001b[0m in \u001b[0;36mmul\u001b[0;34m(x, y, name)\u001b[0m\n\u001b[1;32m   6090\u001b[0m   \u001b[0;31m# Add nodes to the TensorFlow graph.\u001b[0m\u001b[0;34m\u001b[0m\u001b[0;34m\u001b[0m\u001b[0;34m\u001b[0m\u001b[0m\n\u001b[1;32m   6091\u001b[0m   _, _, _op, _outputs = _op_def_library._apply_op_helper(\n\u001b[0;32m-> 6092\u001b[0;31m         \"Mul\", x=x, y=y, name=name)\n\u001b[0m\u001b[1;32m   6093\u001b[0m   \u001b[0m_result\u001b[0m \u001b[0;34m=\u001b[0m \u001b[0m_outputs\u001b[0m\u001b[0;34m[\u001b[0m\u001b[0;34m:\u001b[0m\u001b[0;34m]\u001b[0m\u001b[0;34m\u001b[0m\u001b[0;34m\u001b[0m\u001b[0m\n\u001b[1;32m   6094\u001b[0m   \u001b[0;32mif\u001b[0m \u001b[0m_execute\u001b[0m\u001b[0;34m.\u001b[0m\u001b[0mmust_record_gradient\u001b[0m\u001b[0;34m(\u001b[0m\u001b[0;34m)\u001b[0m\u001b[0;34m:\u001b[0m\u001b[0;34m\u001b[0m\u001b[0;34m\u001b[0m\u001b[0m\n",
            "\u001b[0;32m/usr/local/lib/python3.6/dist-packages/tensorflow/python/framework/op_def_library.py\u001b[0m in \u001b[0;36m_apply_op_helper\u001b[0;34m(op_type_name, name, **keywords)\u001b[0m\n\u001b[1;32m    576\u001b[0m             _SatisfiesTypeConstraint(base_type,\n\u001b[1;32m    577\u001b[0m                                      \u001b[0m_Attr\u001b[0m\u001b[0;34m(\u001b[0m\u001b[0mop_def\u001b[0m\u001b[0;34m,\u001b[0m \u001b[0minput_arg\u001b[0m\u001b[0;34m.\u001b[0m\u001b[0mtype_attr\u001b[0m\u001b[0;34m)\u001b[0m\u001b[0;34m,\u001b[0m\u001b[0;34m\u001b[0m\u001b[0;34m\u001b[0m\u001b[0m\n\u001b[0;32m--> 578\u001b[0;31m                                      param_name=input_name)\n\u001b[0m\u001b[1;32m    579\u001b[0m           \u001b[0mattrs\u001b[0m\u001b[0;34m[\u001b[0m\u001b[0minput_arg\u001b[0m\u001b[0;34m.\u001b[0m\u001b[0mtype_attr\u001b[0m\u001b[0;34m]\u001b[0m \u001b[0;34m=\u001b[0m \u001b[0mattr_value\u001b[0m\u001b[0;34m\u001b[0m\u001b[0;34m\u001b[0m\u001b[0m\n\u001b[1;32m    580\u001b[0m           \u001b[0minferred_from\u001b[0m\u001b[0;34m[\u001b[0m\u001b[0minput_arg\u001b[0m\u001b[0;34m.\u001b[0m\u001b[0mtype_attr\u001b[0m\u001b[0;34m]\u001b[0m \u001b[0;34m=\u001b[0m \u001b[0minput_name\u001b[0m\u001b[0;34m\u001b[0m\u001b[0;34m\u001b[0m\u001b[0m\n",
            "\u001b[0;32m/usr/local/lib/python3.6/dist-packages/tensorflow/python/framework/op_def_library.py\u001b[0m in \u001b[0;36m_SatisfiesTypeConstraint\u001b[0;34m(dtype, attr_def, param_name)\u001b[0m\n\u001b[1;32m     59\u001b[0m           \u001b[0;34m\"allowed values: %s\"\u001b[0m \u001b[0;34m%\u001b[0m\u001b[0;34m\u001b[0m\u001b[0;34m\u001b[0m\u001b[0m\n\u001b[1;32m     60\u001b[0m           (param_name, dtypes.as_dtype(dtype).name,\n\u001b[0;32m---> 61\u001b[0;31m            \", \".join(dtypes.as_dtype(x).name for x in allowed_list)))\n\u001b[0m\u001b[1;32m     62\u001b[0m \u001b[0;34m\u001b[0m\u001b[0m\n\u001b[1;32m     63\u001b[0m \u001b[0;34m\u001b[0m\u001b[0m\n",
            "\u001b[0;31mTypeError\u001b[0m: Value passed to parameter 'x' has DataType string not in list of allowed values: bfloat16, float16, float32, float64, uint8, int8, uint16, int16, int32, int64, complex64, complex128"
          ]
        }
      ]
    }
  ]
}